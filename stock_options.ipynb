{
 "cells": [
  {
   "cell_type": "markdown",
   "metadata": {},
   "source": [
    "# Importing packages"
   ]
  },
  {
   "cell_type": "code",
   "execution_count": 2,
   "metadata": {},
   "outputs": [],
   "source": [
    "import pandas as pd\n",
    "import numpy as np\n",
    "import matplotlib.pyplot as plt\n",
    "from scipy import stats\n",
    "from sklearn import linear_model\n",
    "from sklearn.preprocessing import StandardScaler\n",
    "from sklearn import tree\n",
    "from keras.callbacks import EarlyStopping,ReduceLROnPlateau,ModelCheckpoint,TensorBoard\n",
    "from keras.models import Sequential\n",
    "from keras.layers import Dense,LSTM,Dropout\n",
    "from keras.optimizers import Adam,RMSprop\n",
    "import datetime as dt\n",
    "from dateutil.relativedelta import relativedelta\n",
    "from yahoo_fin.stock_info import get_data,tickers_dow as dow,tickers_nasdaq as nasdaq,tickers_sp500 as sp500,get_premarket_price,get_postmarket_price\n",
    "from yahoo_fin.options import get_calls,get_puts,get_expiration_dates"
   ]
  },
  {
   "cell_type": "markdown",
   "metadata": {},
   "source": [
    "# Calculating Bollinger Bands"
   ]
  },
  {
   "cell_type": "code",
   "execution_count": 3,
   "metadata": {},
   "outputs": [],
   "source": [
    "# Step 1: Calculate SMA (20-period)\n",
    "def get_SMA(closing_prices, days):\n",
    "    return closing_prices.rolling(days).mean()\n",
    "# Step 2: Calculate std. deviation (14-period)\n",
    "def get_std_dev(closing_prices, days):\n",
    "    return closing_prices.rolling(days).std()\n",
    "# Step 3: Create Bollinger Bands (1.5 std dev)\n",
    "def get_BB(closing_prices, SMA_days, std_dev_days, rate):\n",
    "    sma = get_SMA(closing_prices, SMA_days)\n",
    "    std_dev = get_std_dev(closing_prices, std_dev_days)\n",
    "    upper_bollinger = sma + std_dev*rate\n",
    "    lower_bollinger = sma - std_dev*rate\n",
    "    return upper_bollinger,lower_bollinger"
   ]
  },
  {
   "cell_type": "markdown",
   "metadata": {},
   "source": [
    "# Calculating Keltner Channels"
   ]
  },
  {
   "cell_type": "code",
   "execution_count": 4,
   "metadata": {},
   "outputs": [],
   "source": [
    "# Step 1: Calculate EMA (20-period)\n",
    "def get_EMA(closing_prices, days):\n",
    "    multiplier = 2 / (days + 1)\n",
    "    ema = [closing_prices[0]]\n",
    "    for price,EMA_yesterday in zip(closing_prices[1:],ema):\n",
    "        ema.append(price * multiplier + EMA_yesterday * (1 - multiplier))\n",
    "    return ema\n",
    "# Step 2: Calculate ATR (20-period)\n",
    "def get_ATR(high_prices,low_prices,closing_prices,days):\n",
    "    high_low = high_prices-low_prices\n",
    "    high_close = np.abs(high_prices-closing_prices.shift())\n",
    "    low_close = np.abs(low_prices-closing_prices.shift())\n",
    "    ranges = pd.concat([high_low,high_close,low_close],axis=1)\n",
    "    trueRange = np.max(ranges,axis=1)\n",
    "    atr = trueRange.rolling(days).sum()/days\n",
    "    return atr\n",
    "# Step 3: Calculate Keltner Channel\n",
    "def get_KC(ema,shift,atr):\n",
    "    upper_kc = ema + shift*atr\n",
    "    lower_kc = ema - shift*atr\n",
    "    return upper_kc,lower_kc"
   ]
  },
  {
   "cell_type": "markdown",
   "metadata": {},
   "source": [
    "# Calculate Momentum"
   ]
  },
  {
   "cell_type": "code",
   "execution_count": 5,
   "metadata": {},
   "outputs": [],
   "source": [
    "def get_momentum(closing_prices,days):\n",
    "    momentum = []\n",
    "    for day in range(days):\n",
    "        momentum.insert(day,None)\n",
    "    for current_price,previous_price in zip(closing_prices[days:],closing_prices):\n",
    "        momentum.append(current_price - previous_price)\n",
    "    return momentum"
   ]
  },
  {
   "cell_type": "markdown",
   "metadata": {},
   "source": [
    "# Gather data"
   ]
  },
  {
   "cell_type": "code",
   "execution_count": 6,
   "metadata": {},
   "outputs": [],
   "source": [
    "def gather_data(data):\n",
    "    if not isinstance(data,pd.core.frame.DataFrame):\n",
    "        df = pd.read_csv(data)\n",
    "    else:\n",
    "        df = data\n",
    "    closing_prices = df['close']\n",
    "    high_prices = df['high']\n",
    "    low_prices = df['low']\n",
    "    df['SMA'] = get_SMA(closing_prices,20)\n",
    "    df['EMA'] = get_EMA(closing_prices,20)\n",
    "    df['ATR'] = get_ATR(high_prices,low_prices,closing_prices,14)\n",
    "    df['upper_KC'],df['lower_KC'] = get_KC(df['EMA'],1.5,df['ATR'])\n",
    "    df['bollinger_up'],df['bollinger_down'] = get_BB(closing_prices,20,14,1.5)\n",
    "    df['MA'] = get_SMA(closing_prices,14)\n",
    "    df['momentum'] = get_momentum(closing_prices,14)\n",
    "    return df"
   ]
  },
  {
   "cell_type": "markdown",
   "metadata": {},
   "source": [
    "# Screener Algorithm"
   ]
  },
  {
   "cell_type": "code",
   "execution_count": 7,
   "metadata": {},
   "outputs": [],
   "source": [
    "def screener(company):\n",
    "    calls = ''\n",
    "    puts = ''\n",
    "    fail = ''\n",
    "    days_to_check = [-1,-2,-3,-4,-5]\n",
    "    current_status = ''\n",
    "    for day in days_to_check:\n",
    "        today = company.iloc[day]\n",
    "        ticker = today['ticker']\n",
    "        today_price = today['close']\n",
    "        today_upper_kc = today['upper_KC']\n",
    "        today_lower_kc = today['lower_KC']\n",
    "        today_upper_bb = today['bollinger_up']\n",
    "        today_lower_bb = today['bollinger_down']\n",
    "        today_ma = today['MA']\n",
    "        today_momentum = today['momentum']\n",
    "        if(today_upper_bb < today_upper_kc and today_lower_bb > today_lower_kc and today_price > today_ma and today_momentum > 0 and current_status!='put'):\n",
    "            calls = ticker\n",
    "            current_status = 'call'\n",
    "        elif(today_upper_bb < today_upper_kc and today_lower_bb > today_lower_kc and today_price < today_ma and today_momentum < 0 and current_status!='call'):\n",
    "            puts = ticker\n",
    "            current_status = 'put'\n",
    "        else:\n",
    "            if day !=-1:\n",
    "                calls = ''\n",
    "                puts = ''\n",
    "                fail = f'{ticker} failed {current_status} {(day)*(-1)-1} day(s) ago'\n",
    "            break\n",
    "    return calls,puts,fail"
   ]
  },
  {
   "cell_type": "markdown",
   "metadata": {},
   "source": [
    "# Screener"
   ]
  },
  {
   "cell_type": "code",
   "execution_count": 8,
   "metadata": {},
   "outputs": [],
   "source": [
    "today = dt.date.today()\n",
    "last_year = (dt.datetime.now()-relativedelta(years=1))\n",
    "\n",
    "calls = []\n",
    "puts = []\n",
    "fails = []\n",
    "\n",
    "# Check an index\n",
    "def check_index(function):\n",
    "    index = function()\n",
    "    index_hist = {}\n",
    "    for ticker in index:\n",
    "        data = get_data(ticker, start_date = last_year, end_date = today, index_as_date = True, interval = '1d')\n",
    "        company = gather_data(data)\n",
    "        company_calls,company_puts,company_fails = screener(company)\n",
    "        if company_calls!='':\n",
    "            calls.append(company_calls)\n",
    "        if company_puts!='':\n",
    "            puts.append(company_puts)\n",
    "        if company_fails!='':\n",
    "            fails.append(company_fails)\n",
    "    return calls,puts,fails\n",
    "\n",
    "\n",
    "# Check individual stock\n",
    "def check_stock(ticker):\n",
    "    data = get_data(ticker, start_date = last_year, end_date = today, index_as_date = True, interval = '1d')\n",
    "    company = gather_data(data)\n",
    "    company_calls,company_puts,company_fails = screener(company)\n",
    "    if company_calls!='':\n",
    "            calls.append(company_calls)\n",
    "    if company_puts!='':\n",
    "        puts.append(company_puts)\n",
    "    if company_fails!='':\n",
    "        fails.append(company_fails)\n",
    "    return calls,puts,fails\n",
    "\n",
    "# Check custom stock\n",
    "def check_custom_stock(csv):\n",
    "    company = gather_data(csv)\n",
    "    company_calls,company_puts,company_fails = screener(company)\n",
    "    if company_calls!='':\n",
    "            calls.append(company_calls)\n",
    "    if company_puts!='':\n",
    "        puts.append(company_puts)\n",
    "    if company_fails!='':\n",
    "        fails.append(company_fails)\n",
    "    return calls,puts,fails"
   ]
  },
  {
   "cell_type": "code",
   "execution_count": 150,
   "metadata": {},
   "outputs": [
    {
     "name": "stdout",
     "output_type": "stream",
     "text": [
      "calls (9): ['ADP', 'ADP', 'BALL', 'BIIB', 'HWM', 'IPG', 'JBHT', 'MU', 'RCL']\n",
      "puts (0): []\n",
      "fails (179): ['A failed call 2 day(s) ago', 'AAL failed call 1 day(s) ago', 'ABBV failed call 1 day(s) ago', 'ABT failed call 3 day(s) ago', 'AEP failed call 1 day(s) ago', 'ALK failed call 1 day(s) ago', 'ALL failed call 2 day(s) ago', 'AMCR failed call 1 day(s) ago', 'AON failed call 1 day(s) ago', 'APA failed call 1 day(s) ago', 'ATVI failed call 1 day(s) ago', 'A failed call 2 day(s) ago', 'AAL failed call 1 day(s) ago', 'ABBV failed call 1 day(s) ago', 'ABT failed call 3 day(s) ago', 'AEP failed call 1 day(s) ago', 'ALK failed call 1 day(s) ago', 'ALL failed call 2 day(s) ago', 'AMCR failed call 1 day(s) ago', 'AON failed call 1 day(s) ago', 'APA failed call 1 day(s) ago', 'ATVI failed call 1 day(s) ago', 'AVY failed call 1 day(s) ago', 'AXP failed call 4 day(s) ago', 'BAC failed call 2 day(s) ago', 'BBWI failed call 1 day(s) ago', 'BEN failed call 1 day(s) ago', 'BKNG failed call 3 day(s) ago', 'BRK-B failed call 1 day(s) ago', 'BSX failed call 4 day(s) ago', 'BXP failed call 1 day(s) ago', 'C failed call 1 day(s) ago', 'CB failed call 1 day(s) ago', 'CBRE failed call 1 day(s) ago', 'CCL failed call 1 day(s) ago', 'CDAY failed call 1 day(s) ago', 'CE failed call 1 day(s) ago', 'CEG failed call 1 day(s) ago', 'CF failed call 1 day(s) ago', 'CFG failed call 1 day(s) ago', 'CHD failed call 1 day(s) ago', 'CHTR failed call 1 day(s) ago', 'CI failed call 1 day(s) ago', 'CINF failed call 4 day(s) ago', 'CL failed call 3 day(s) ago', 'CLX failed call 1 day(s) ago', 'CMCSA failed call 4 day(s) ago', 'CME failed call 1 day(s) ago', 'CMI failed call 1 day(s) ago', 'COP failed call 1 day(s) ago', 'COST failed call 1 day(s) ago', 'CPRT failed call 1 day(s) ago', 'CPT failed call 1 day(s) ago', 'CRL failed call 3 day(s) ago', 'CSCO failed call 1 day(s) ago', 'CTVA failed call 2 day(s) ago', 'CVX failed call 1 day(s) ago', 'CZR failed call 3 day(s) ago', 'DAL failed call 4 day(s) ago', 'DE failed call 4 day(s) ago', 'DG failed call 1 day(s) ago', 'DGX failed call 3 day(s) ago', 'DHI failed call 2 day(s) ago', 'DHR failed call 1 day(s) ago', 'DISH failed call 1 day(s) ago', 'DOW failed call 1 day(s) ago', 'DRI failed call 2 day(s) ago', 'DXC failed call 1 day(s) ago', 'EA failed call 1 day(s) ago', 'EL failed call 3 day(s) ago', 'EQT failed call 4 day(s) ago', 'ETSY failed call 1 day(s) ago', 'EXC failed call 2 day(s) ago', 'EXPE failed call 1 day(s) ago', 'FANG failed call 3 day(s) ago', 'FDS failed call 2 day(s) ago', 'FDX failed call 4 day(s) ago', 'FE failed call 1 day(s) ago', 'FISV failed call 1 day(s) ago', 'FITB failed call 1 day(s) ago', 'FOX failed call 1 day(s) ago', 'FOXA failed call 1 day(s) ago', 'GD failed call 3 day(s) ago', 'GEN failed call 2 day(s) ago', 'GIS failed call 2 day(s) ago', 'GL failed call 1 day(s) ago', 'GLW failed call 1 day(s) ago', 'HBAN failed call 1 day(s) ago', 'HCA failed call 1 day(s) ago', 'HD failed call 1 day(s) ago', 'HII failed put 2 day(s) ago', 'HLT failed call 1 day(s) ago', 'HSY failed put 1 day(s) ago', 'IFF failed call 1 day(s) ago', 'ILMN failed call 1 day(s) ago', 'INTC failed call 1 day(s) ago', 'IP failed call 1 day(s) ago', 'IRM failed call 1 day(s) ago', 'JNJ failed call 2 day(s) ago', 'JNPR failed call 1 day(s) ago', 'KHC failed call 1 day(s) ago', 'KMI failed call 1 day(s) ago', 'KO failed call 1 day(s) ago', 'L failed call 1 day(s) ago', 'LKQ failed call 1 day(s) ago', 'LLY failed call 2 day(s) ago', 'LYB failed call 1 day(s) ago', 'LYV failed put 1 day(s) ago', 'MAR failed call 1 day(s) ago', 'MAS failed call 1 day(s) ago', 'MCK failed put 1 day(s) ago', 'MGM failed call 1 day(s) ago', 'MO failed put 1 day(s) ago', 'MOS failed call 1 day(s) ago', 'MPC failed call 2 day(s) ago', 'MRK failed call 2 day(s) ago', 'MRO failed call 1 day(s) ago', 'MTB failed call 1 day(s) ago', 'MTCH failed call 1 day(s) ago', 'NCLH failed call 1 day(s) ago', 'NDSN failed call 2 day(s) ago', 'NI failed call 1 day(s) ago', 'NKE failed call 3 day(s) ago', 'NRG failed call 1 day(s) ago', 'NTAP failed call 1 day(s) ago', 'NUE failed call 1 day(s) ago', 'NVR failed call 1 day(s) ago', 'NWS failed call 1 day(s) ago', 'NWSA failed call 1 day(s) ago', 'OMC failed call 3 day(s) ago', 'ORCL failed call 2 day(s) ago', 'OXY failed put 2 day(s) ago', 'PAYC failed call 1 day(s) ago', 'PAYX failed call 1 day(s) ago', 'PEP failed call 1 day(s) ago', 'PFE failed call 1 day(s) ago', 'PHM failed call 1 day(s) ago', 'PKI failed call 1 day(s) ago', 'PNC failed call 1 day(s) ago', 'PNR failed call 1 day(s) ago', 'PRU failed call 1 day(s) ago', 'PSX failed call 4 day(s) ago', 'PWR failed call 1 day(s) ago', 'QRVO failed call 1 day(s) ago', 'RHI failed call 1 day(s) ago', 'RL failed call 1 day(s) ago', 'ROST failed call 1 day(s) ago', 'RSG failed call 1 day(s) ago', 'SHW failed call 2 day(s) ago', 'SIVB failed call 1 day(s) ago', 'SLB failed call 2 day(s) ago', 'SO failed call 1 day(s) ago', 'SWK failed call 1 day(s) ago', 'SYY failed call 1 day(s) ago', 'TAP failed call 1 day(s) ago', 'TFC failed call 1 day(s) ago', 'TGT failed call 1 day(s) ago', 'TJX failed call 1 day(s) ago', 'TMO failed call 1 day(s) ago', 'TPR failed call 1 day(s) ago', 'TRGP failed call 1 day(s) ago', 'TRV failed call 2 day(s) ago', 'UAL failed call 3 day(s) ago', 'UDR failed call 1 day(s) ago', 'UPS failed call 1 day(s) ago', 'V failed call 1 day(s) ago', 'VFC failed call 1 day(s) ago', 'VLO failed call 1 day(s) ago', 'VNO failed call 1 day(s) ago', 'VRTX failed call 3 day(s) ago', 'WDC failed call 1 day(s) ago', 'WFC failed call 1 day(s) ago', 'WM failed call 1 day(s) ago', 'WMT failed call 1 day(s) ago', 'WRB failed call 1 day(s) ago', 'WY failed call 1 day(s) ago', 'XOM failed call 1 day(s) ago', 'ZBH failed call 1 day(s) ago', 'ZION failed call 1 day(s) ago']\n"
     ]
    }
   ],
   "source": [
    "stock_calls,stock_puts,stock_fails = check_index(sp500)\n",
    "#stock_calls,stock_puts,stock_fails = check_stock('AXP')\n",
    "print(f'calls ({len(stock_calls)}): {stock_calls}\\nputs ({len(stock_puts)}): {stock_puts}\\nfails ({len(stock_fails)}): {stock_fails}')"
   ]
  },
  {
   "cell_type": "markdown",
   "metadata": {},
   "source": [
    "# Get pre/post market prices"
   ]
  },
  {
   "cell_type": "code",
   "execution_count": null,
   "metadata": {},
   "outputs": [
    {
     "name": "stdout",
     "output_type": "stream",
     "text": [
      "Not pre/post market\n"
     ]
    }
   ],
   "source": [
    "def is_premarket(current):\n",
    "    start = dt.time(4,0,0)\n",
    "    end = dt.time(9,30,0)\n",
    "    return start<=current<=end\n",
    "\n",
    "def is_postmarket(current):\n",
    "    start = dt.time(16,0,0)\n",
    "    end = dt.time(20,0,0)\n",
    "    return start<=current<=end\n",
    "\n",
    "def get_pre_post_market(ticker,current_hour):\n",
    "    if is_premarket(current_hour):\n",
    "        data = f'Premarket: {get_premarket_price(ticker)}'\n",
    "    elif is_postmarket(current_hour):\n",
    "        data = f'Postmarket: {get_postmarket_price(ticker)}'\n",
    "    else:\n",
    "        data = 'Not pre/post market'\n",
    "    #company = gather_data(data)\n",
    "    print(data)\n",
    "\n",
    "current_hour = dt.datetime.now().time()\n",
    "get_pre_post_market('AAPL',current_hour)"
   ]
  },
  {
   "cell_type": "markdown",
   "metadata": {},
   "source": [
    "# Plotter"
   ]
  },
  {
   "cell_type": "code",
   "execution_count": 27,
   "metadata": {},
   "outputs": [
    {
     "data": {
      "image/png": "[encoded data removed]",
      "text/plain": [
       "<Figure size 432x288 with 1 Axes>"
      ]
     },
     "metadata": {
      "needs_background": "light"
     },
     "output_type": "display_data"
    }
   ],
   "source": [
    "%matplotlib inline\n",
    "\n",
    "today = dt.date.today()\n",
    "last_year = (dt.datetime.now()-relativedelta(years=1))\n",
    "ticker = 'ADP'\n",
    "data = get_data(ticker=ticker, start_date = last_year, end_date = None, index_as_date = True, interval = '1d')\n",
    "df = gather_data(data)\n",
    "plt.title(ticker + ' Graph')\n",
    "plt.xlabel('Days')\n",
    "plt.ylabel('Closing Prices')\n",
    "plt.plot(df['close'], label='Closing Prices')\n",
    "plt.plot(df['bollinger_up'], label='Bollinger Up', c='green')\n",
    "plt.plot(df['bollinger_down'], label='Bollinger Down', c='red')\n",
    "plt.plot(df['upper_KC'], label='Upper Keltner Channel', c='black')\n",
    "plt.plot(df['lower_KC'], label='Lower Keltner Channel', c='black')\n",
    "plt.plot(df['MA'], label='MA 14-Days', c='purple')\n",
    "plt.plot(df['momentum'], label='14-day Momentum', c='blue')\n",
    "plt.legend()\n",
    "plt.show()"
   ]
  },
  {
   "cell_type": "markdown",
   "metadata": {},
   "source": [
    "# ML Predictions PART 1: Data Pre-Processing"
   ]
  },
  {
   "cell_type": "code",
   "execution_count": 24,
   "metadata": {},
   "outputs": [
    {
     "name": "stdout",
     "output_type": "stream",
     "text": [
      "(186, 6) (47, 6) (186, 1) (47, 1)\n",
      "X_train:\n",
      "                open  upper_KC  lower_KC  bollinger_up  bollinger_down  \\\n",
      "2022-02-08 -1.343385 -0.761885 -1.087787     -0.546791       -1.020348   \n",
      "2022-01-24 -0.625923  0.410036  0.427138      1.067709        0.392794   \n",
      "2022-04-11  0.777528 -0.059005  0.151139      0.218110       -0.432032   \n",
      "2022-08-16  2.094268  1.320186  1.413896      1.141034        0.948927   \n",
      "2022-08-15  1.916989  1.291286  1.155036      1.007417        0.786229   \n",
      "...              ...       ...       ...           ...             ...   \n",
      "2022-06-15 -1.261812 -0.898973 -0.866854     -0.593375       -0.930321   \n",
      "2022-06-17 -1.681883 -1.102187 -1.077525     -0.464083       -1.182495   \n",
      "2022-08-29  1.498845  1.854947  2.094554      1.747411        2.240286   \n",
      "2022-03-30 -0.124920 -0.965591 -0.725492     -0.827692       -0.938656   \n",
      "2022-09-06  0.819921  1.626981  1.812712      2.101536        1.768093   \n",
      "\n",
      "                  MA  \n",
      "2022-02-08 -1.243555  \n",
      "2022-01-24  0.417319  \n",
      "2022-04-11  0.225925  \n",
      "2022-08-16  1.617368  \n",
      "2022-08-15  1.485617  \n",
      "...              ...  \n",
      "2022-06-15 -0.617130  \n",
      "2022-06-17 -0.833607  \n",
      "2022-08-29  2.179084  \n",
      "2022-03-30 -0.705403  \n",
      "2022-09-06  1.841345  \n",
      "\n",
      "[186 rows x 6 columns]\n",
      "\n",
      "X_test:\n",
      "                open  upper_KC  lower_KC  bollinger_up  bollinger_down  \\\n",
      "2022-10-24  0.621446  0.694862  0.393293      0.251835        0.550767   \n",
      "2022-10-17  0.302217  0.633110  0.316630      0.202542        0.499092   \n",
      "2022-11-09  1.157776  1.121977  0.807939      0.543148        1.054619   \n",
      "2022-05-16 -1.092242 -0.464531 -0.801356     -0.137914       -0.647982   \n",
      "2022-01-13  0.593185  0.870532  1.115765      0.932631        1.034463   \n",
      "2022-01-06  1.081342  1.064774  1.280645      1.006221        0.914600   \n",
      "2022-03-01 -1.418536 -1.759608 -1.492279     -1.726661       -1.350695   \n",
      "2022-08-11  1.735857  0.939228  0.883340      1.074506        0.034521   \n",
      "2022-04-01  0.169901 -0.712284 -0.520916     -0.556281       -0.873716   \n",
      "2022-07-19 -0.730620 -1.009983 -0.889022     -1.138298       -0.563488   \n",
      "2022-06-22 -1.356232 -1.143044 -1.171044     -0.529283       -1.167186   \n",
      "2022-03-08 -1.142342 -1.634035 -1.517718     -1.716056       -1.344209   \n",
      "2021-12-30  1.453240  0.883308  1.085334      0.854101        0.658779   \n",
      "2022-04-20  0.394710  0.131993  0.283533      0.077111        0.483240   \n",
      "2022-07-21 -0.634915 -0.969442 -0.827709     -1.073366       -0.484930   \n",
      "2022-05-26 -0.682447 -0.877653 -0.827181     -1.056171       -0.600014   \n",
      "2022-04-22  0.318917  0.139539  0.236765      0.221593        0.508047   \n",
      "2021-12-13  0.688246  0.562519  0.652484      0.297360        0.959241   \n",
      "2022-10-13 -0.388268  0.624667  0.382756      0.222371        0.555117   \n",
      "2022-02-28 -1.425602 -1.722048 -1.481576     -1.681710       -1.370310   \n",
      "2022-06-23 -1.035076 -1.168255 -1.152785     -0.613757       -1.092237   \n",
      "2022-04-05  0.597680 -0.464473 -0.222519     -0.157604       -0.859821   \n",
      "2022-06-24 -0.869360 -1.071346 -1.128342     -0.614805       -1.054618   \n",
      "2022-09-29  0.333048  0.772032  0.734521      0.521983        0.901381   \n",
      "2022-06-13 -1.204003 -0.766070 -0.693055     -0.706002       -0.717366   \n",
      "2022-04-07  0.703662 -0.223060  0.027525      0.130965       -0.744111   \n",
      "2022-11-03  0.571988  0.972790  0.692133      0.386781        0.801431   \n",
      "2021-12-28  1.326062  0.712261  0.940364      0.604261        0.660672   \n",
      "2022-10-18  0.714581  0.664141  0.341496      0.224348        0.486647   \n",
      "2022-05-03 -0.363218  0.103480 -0.088041      0.175371        0.389486   \n",
      "2022-02-04 -1.396055 -0.615694 -0.999889     -0.109518       -1.063475   \n",
      "2022-09-14  0.666408  1.494892  1.426048      1.627117        1.625572   \n",
      "2022-07-27 -0.365144 -0.656319 -0.664571     -0.649753       -0.725346   \n",
      "2022-02-17 -1.459001 -1.441138 -1.214140     -1.659458       -1.097726   \n",
      "2022-09-20  0.568134  1.227620  1.155560      1.126037        1.387597   \n",
      "2022-11-10  1.641437  1.341255  0.857346      0.800895        0.963391   \n",
      "2022-05-27 -0.361291 -0.812730 -0.742489     -0.867015       -0.755410   \n",
      "2022-03-18 -0.751816 -1.359664 -1.297096     -1.538978       -1.182879   \n",
      "2021-12-23  0.789732  0.535092  0.751983      0.283991        0.805367   \n",
      "2022-08-18  2.231721  1.539927  1.720311      1.481238        1.235348   \n",
      "2022-07-08 -0.676023 -0.970892 -0.932652     -1.058547       -1.024448   \n",
      "2022-06-03 -0.189794 -0.646769 -0.597016     -0.747878       -0.896054   \n",
      "2022-06-28 -0.443507 -0.997479 -1.074221     -0.735966       -1.002984   \n",
      "2022-09-21  0.641358  1.167247  1.065344      1.056019        1.273848   \n",
      "2022-05-25 -0.863579 -0.919637 -0.844434     -1.039127       -0.533303   \n",
      "2022-10-14  0.448022  0.607458  0.312754      0.209005        0.511831   \n",
      "2022-04-19  0.101174  0.113594  0.226596      0.042325        0.390791   \n",
      "\n",
      "                  MA  \n",
      "2022-10-24  0.404853  \n",
      "2022-10-17  0.340852  \n",
      "2022-11-09  0.938546  \n",
      "2022-05-16 -0.607502  \n",
      "2022-01-13  1.130903  \n",
      "2022-01-06  1.114535  \n",
      "2022-03-01 -1.608151  \n",
      "2022-08-11  1.079216  \n",
      "2022-04-01 -0.468403  \n",
      "2022-07-19 -0.829452  \n",
      "2022-06-22 -0.975594  \n",
      "2022-03-08 -1.574048  \n",
      "2021-12-30  0.846219  \n",
      "2022-04-20  0.537567  \n",
      "2022-07-21 -0.769100  \n",
      "2022-05-26 -1.034578  \n",
      "2022-04-22  0.500373  \n",
      "2021-12-13  0.535692  \n",
      "2022-10-13  0.327019  \n",
      "2022-02-28 -1.577240  \n",
      "2022-06-23 -1.042128  \n",
      "2022-04-05 -0.223093  \n",
      "2022-06-24 -1.051706  \n",
      "2022-09-29  0.495153  \n",
      "2022-06-13 -0.539346  \n",
      "2022-04-07  0.018518  \n",
      "2022-11-03  0.777050  \n",
      "2021-12-28  0.711782  \n",
      "2022-10-18  0.356409  \n",
      "2022-05-03  0.079073  \n",
      "2022-02-04 -1.056671  \n",
      "2022-09-14  1.292602  \n",
      "2022-07-27 -0.611100  \n",
      "2022-02-17 -1.418480  \n",
      "2022-09-20  0.940168  \n",
      "2022-11-10  1.050737  \n",
      "2022-05-27 -0.959226  \n",
      "2022-03-18 -1.186801  \n",
      "2021-12-23  0.584947  \n",
      "2022-08-18  1.825282  \n",
      "2022-07-08 -0.918536  \n",
      "2022-06-03 -0.708342  \n",
      "2022-06-28 -1.099440  \n",
      "2022-09-21  0.869276  \n",
      "2022-05-25 -1.041368  \n",
      "2022-10-14  0.313185  \n",
      "2022-04-19  0.512940  \n",
      "\n",
      "y_train:\n",
      "                 close\n",
      "2022-02-08  208.410004\n",
      "2022-01-24  218.240005\n",
      "2022-04-11  230.960007\n",
      "2022-08-16  260.040009\n",
      "2022-08-15  259.709991\n",
      "...                ...\n",
      "2022-06-15  207.149994\n",
      "2022-06-17  200.279999\n",
      "2022-08-29  248.880005\n",
      "2022-03-30  227.759995\n",
      "2022-09-06  238.139999\n",
      "\n",
      "[186 rows x 1 columns]\n",
      "\n",
      "y_test:\n",
      "                 close\n",
      "2022-10-24  236.910004\n",
      "2022-10-17  233.080002\n",
      "2022-11-09  240.380005\n",
      "2022-05-16  208.600006\n",
      "2022-01-13  231.929993\n",
      "2022-01-06  241.389999\n",
      "2022-03-01  202.309998\n",
      "2022-08-11  250.229996\n",
      "2022-04-01  233.500000\n",
      "2022-07-19  218.949997\n",
      "2022-06-22  207.399994\n",
      "2022-03-08  205.380005\n",
      "2021-12-30  245.559998\n",
      "2022-04-20  232.619995\n",
      "2022-07-21  218.089996\n",
      "2022-05-26  218.279999\n",
      "2022-04-22  223.520004\n",
      "2021-12-13  235.020004\n",
      "2022-10-13  229.899994\n",
      "2022-02-28  204.440002\n",
      "2022-06-23  210.580002\n",
      "2022-04-05  238.000000\n",
      "2022-06-24  218.789993\n",
      "2022-09-29  227.750000\n",
      "2022-06-13  204.759995\n",
      "2022-04-07  238.500000\n",
      "2022-11-03  236.100006\n",
      "2021-12-28  246.070007\n",
      "2022-10-18  235.020004\n",
      "2022-05-03  221.539993\n",
      "2022-02-04  206.250000\n",
      "2022-09-14  234.479996\n",
      "2022-07-27  234.039993\n",
      "2022-02-17  200.460007\n",
      "2022-09-20  233.539993\n",
      "2022-11-10  254.880005\n",
      "2022-05-27  224.660004\n",
      "2022-03-18  214.690002\n",
      "2021-12-23  242.000000\n",
      "2022-08-18  260.940002\n",
      "2022-07-08  217.270004\n",
      "2022-06-03  220.679993\n",
      "2022-06-28  214.059998\n",
      "2022-09-21  230.419998\n",
      "2022-05-25  213.899994\n",
      "2022-10-14  225.910004\n",
      "2022-04-19  229.600006\n"
     ]
    },
    {
     "name": "stderr",
     "output_type": "stream",
     "text": [
      "C:\\Users\\slogozzo\\AppData\\Local\\Temp\\ipykernel_3444\\2537662752.py:19: SettingWithCopyWarning: \n",
      "A value is trying to be set on a copy of a slice from a DataFrame.\n",
      "Try using .loc[row_indexer,col_indexer] = value instead\n",
      "\n",
      "See the caveats in the documentation: https://pandas.pydata.org/pandas-docs/stable/user_guide/indexing.html#returning-a-view-versus-a-copy\n",
      "  X[features] = scaler.fit_transform(X[features].values)\n"
     ]
    }
   ],
   "source": [
    "# Step 1: Read data\n",
    "from sklearn.model_selection import train_test_split\n",
    "\n",
    "\n",
    "today = dt.date.today()\n",
    "last_year = (dt.datetime.now()-relativedelta(years=1))\n",
    "ticker = 'ADP'\n",
    "data = get_data(ticker, start_date = last_year, end_date = today, index_as_date = True, interval = '1d')\n",
    "dataset_train = gather_data(data)\n",
    "##dataset_train['close-open'] = (dataset_train['close']-dataset_train['open']).shift(periods=1)\n",
    "# Select features to be involved in training and prediction and target to predict\n",
    "features = list(dataset_train[['open','upper_KC','lower_KC','bollinger_up','bollinger_down','MA']])#,'high','low','volume','momentum' REMOVED DUE TO NON-LINEARITY\n",
    "target = list(dataset_train[['close']])\n",
    "dataset_train.dropna(inplace=True)\n",
    "X = dataset_train[features]\n",
    "y = dataset_train[target]\n",
    "# Scale data\n",
    "scaler = StandardScaler()\n",
    "X[features] = scaler.fit_transform(X[features].values)\n",
    "# dataset_features_scaled = scaler.fit_transform(X)\n",
    "# dataset_target_scaled = scaler.fit_transform(y)\n",
    "# Split the data for train-test\n",
    "X_train, X_test, y_train, y_test = train_test_split(X, y, test_size=0.20)\n",
    "print(X_train.shape, X_test.shape, y_train.shape, y_test.shape)\n",
    "print(f'X_train:\\n{X_train}\\n\\nX_test:\\n{X_test}\\n\\ny_train:\\n{y_train}\\n\\ny_test:\\n{y_test}')"
   ]
  },
  {
   "cell_type": "markdown",
   "metadata": {},
   "source": [
    "# Check for linearity"
   ]
  },
  {
   "cell_type": "code",
   "execution_count": 25,
   "metadata": {},
   "outputs": [
    {
     "name": "stdout",
     "output_type": "stream",
     "text": [
      "At open, r_value: 0.9519433698090913\n",
      "At upper_KC, r_value: 0.665265443255927\n",
      "At lower_KC, r_value: 0.7143442224407252\n",
      "At bollinger_up, r_value: 0.5313978548555208\n",
      "At bollinger_down, r_value: 0.5201349742309997\n",
      "At MA, r_value: 0.7139115716418246\n"
     ]
    }
   ],
   "source": [
    "for feature in features:\n",
    "    slope, intercept, r_value, p_value, std_err = stats.linregress(dataset_train[feature], dataset_train['close'])\n",
    "    print(f'At {feature}, r_value: {r_value**2}')\n",
    "# slope, intercept, r_value, p_value, std_err = stats.linregress(dataset_train['volume'], dataset_train['close'])\n",
    "# print(f'At volume, r_value: {r_value**2}')\n",
    "# slope, intercept, r_value, p_value, std_err = stats.linregress(dataset_train['momentum'], dataset_train['close'])\n",
    "# print(f'At momentum, r_value: {r_value**2}')"
   ]
  },
  {
   "cell_type": "markdown",
   "metadata": {},
   "source": [
    "Surprisingly, we see that Volume and Momentum are correlated very little to Closing prices. Only 0.010511741252537113 for volume and 0.02194343991238041 for momentum.\n",
    "Remember, r_value is between 0 and 1, where 0 is bad and 1 is good\n",
    "\n",
    "# Now plot everything to double check for linearity at those values"
   ]
  },
  {
   "cell_type": "code",
   "execution_count": 164,
   "metadata": {},
   "outputs": [
    {
     "data": {
      "image/png": "[encoded data removed]",
      "text/plain": [
       "<Figure size 432x288 with 1 Axes>"
      ]
     },
     "metadata": {
      "needs_background": "light"
     },
     "output_type": "display_data"
    },
    {
     "data": {
      "image/png": "[encoded data removed]",
      "text/plain": [
       "<Figure size 432x288 with 1 Axes>"
      ]
     },
     "metadata": {
      "needs_background": "light"
     },
     "output_type": "display_data"
    }
   ],
   "source": [
    "%matplotlib inline\n",
    "\n",
    "plt.scatter(dataset_train['volume'], dataset_train['close'], color='red')\n",
    "plt.title('Closing Price VS Volume', fontsize=14)\n",
    "plt.xlabel('Volume', fontsize=14)\n",
    "plt.ylabel('Closing Price', fontsize=14)\n",
    "plt.grid(True)\n",
    "plt.show()\n",
    "\n",
    "plt.scatter(dataset_train['momentum'], dataset_train['close'], color='black')\n",
    "plt.title('Closing Price VS Momentum', fontsize=14)\n",
    "plt.xlabel('Momentum', fontsize=14)\n",
    "plt.ylabel('Closing Price', fontsize=14)\n",
    "plt.grid(True)\n",
    "plt.show()"
   ]
  },
  {
   "cell_type": "markdown",
   "metadata": {},
   "source": [
    "# Perform Multiple Linear Regression"
   ]
  },
  {
   "cell_type": "code",
   "execution_count": 50,
   "metadata": {},
   "outputs": [
    {
     "name": "stdout",
     "output_type": "stream",
     "text": [
      "                            OLS Regression Results                            \n",
      "==============================================================================\n",
      "Dep. Variable:                  close   R-squared:                       0.954\n",
      "Model:                            OLS   Adj. R-squared:                  0.953\n",
      "Method:                 Least Squares   F-statistic:                     778.3\n",
      "Date:                Fri, 11 Nov 2022   Prob (F-statistic):          6.91e-148\n",
      "Time:                        16:35:36   Log-Likelihood:                -611.86\n",
      "No. Observations:                 233   AIC:                             1238.\n",
      "Df Residuals:                     226   BIC:                             1262.\n",
      "Df Model:                           6                                         \n",
      "Covariance Type:            nonrobust                                         \n",
      "==================================================================================\n",
      "                     coef    std err          t      P>|t|      [0.025      0.975]\n",
      "----------------------------------------------------------------------------------\n",
      "const            225.7319      0.222   1014.921      0.000     225.294     226.170\n",
      "open              13.7582      0.710     19.367      0.000      12.358      15.158\n",
      "upper_KC           2.2329      1.605      1.391      0.166      -0.930       5.396\n",
      "lower_KC           3.5284      1.958      1.802      0.073      -0.329       7.386\n",
      "bollinger_up      -2.2394      1.129     -1.983      0.049      -4.464      -0.015\n",
      "bollinger_down    -3.4561      1.159     -2.982      0.003      -5.740      -1.172\n",
      "MA                 0.8782      1.732      0.507      0.613      -2.534       4.290\n",
      "==============================================================================\n",
      "Omnibus:                        4.987   Durbin-Watson:                   1.986\n",
      "Prob(Omnibus):                  0.083   Jarque-Bera (JB):                6.507\n",
      "Skew:                           0.102   Prob(JB):                       0.0386\n",
      "Kurtosis:                       3.793   Cond. No.                         24.1\n",
      "==============================================================================\n",
      "\n",
      "Notes:\n",
      "[1] Standard Errors assume that the covariance matrix of the errors is correctly specified.\n",
      "\n",
      "Predictions: 2021-12-09    232.543755\n",
      "2021-12-10    233.208238\n",
      "2021-12-13    235.248511\n",
      "2021-12-14    232.892710\n",
      "2021-12-15    229.067719\n",
      "                 ...    \n",
      "2022-11-04    238.897023\n",
      "2022-11-07    238.638051\n",
      "2022-11-08    240.840158\n",
      "2022-11-09    242.979846\n",
      "2022-11-10    250.134713\n",
      "Length: 233, dtype: float64\n"
     ]
    }
   ],
   "source": [
    "import statsmodels.api as sm\n",
    "\n",
    "X = sm.add_constant(X) # adding a constant\n",
    " \n",
    "model = sm.OLS(y, X).fit()\n",
    "print(model.summary())\n",
    "\n",
    "# Make predictions\n",
    "predictions = model.predict(X)\n",
    "print(f'\\nPredictions: {predictions}')"
   ]
  },
  {
   "cell_type": "code",
   "execution_count": 51,
   "metadata": {},
   "outputs": [
    {
     "name": "stdout",
     "output_type": "stream",
     "text": [
      "                            OLS Regression Results                            \n",
      "==============================================================================\n",
      "Dep. Variable:                  close   R-squared:                       0.960\n",
      "Model:                            OLS   Adj. R-squared:                  0.958\n",
      "Method:                 Least Squares   F-statistic:                     709.7\n",
      "Date:                Fri, 11 Nov 2022   Prob (F-statistic):          6.28e-122\n",
      "Time:                        16:35:38   Log-Likelihood:                -478.97\n",
      "No. Observations:                 186   AIC:                             971.9\n",
      "Df Residuals:                     179   BIC:                             994.5\n",
      "Df Model:                           6                                         \n",
      "Covariance Type:            nonrobust                                         \n",
      "==================================================================================\n",
      "                     coef    std err          t      P>|t|      [0.025      0.975]\n",
      "----------------------------------------------------------------------------------\n",
      "const            225.5579      0.238    947.845      0.000     225.088     226.027\n",
      "open              13.4865      0.758     17.803      0.000      11.992      14.981\n",
      "upper_KC           2.3952      1.785      1.342      0.181      -1.127       5.918\n",
      "lower_KC           4.7500      2.096      2.266      0.025       0.614       8.886\n",
      "bollinger_up      -2.4984      1.231     -2.030      0.044      -4.927      -0.070\n",
      "bollinger_down    -3.8021      1.236     -3.077      0.002      -6.240      -1.364\n",
      "MA                 0.4742      1.870      0.254      0.800      -3.216       4.164\n",
      "==============================================================================\n",
      "Omnibus:                        2.244   Durbin-Watson:                   1.892\n",
      "Prob(Omnibus):                  0.326   Jarque-Bera (JB):                2.198\n",
      "Skew:                          -0.263   Prob(JB):                        0.333\n",
      "Kurtosis:                       2.922   Cond. No.                         25.3\n",
      "==============================================================================\n",
      "\n",
      "Notes:\n",
      "[1] Standard Errors assume that the covariance matrix of the errors is correctly specified.\n",
      "\n",
      "Predictions: [234.94022822 230.41215106 242.7756214  208.42837953 235.21594362\n",
      " 243.31204587 203.81048223 253.11006307 228.15844139 213.65533084\n",
      " 204.26416394 207.68033342 248.19075882 230.76898998 214.90210996\n",
      " 214.75215819 229.06980125 235.15053892 221.124671   203.83292548\n",
      " 208.51632187 235.00610126 210.95453176 230.89123547 208.42870196\n",
      " 237.15506676 235.24468767 245.93051157 236.1661612  218.60744883\n",
      " 204.32170467 235.26693664 219.99595922 204.3089519  234.00614005\n",
      " 249.81453568 219.79521562 213.78013257 237.56796201 259.98392765\n",
      " 215.78917878 223.55268679 217.21556526 234.99433323 211.82735596\n",
      " 232.22099647 226.92240593]\n",
      "\n",
      "Actual data: [236.91000366 233.08000183 240.38000488 208.6000061  231.92999268\n",
      " 241.38999939 202.30999756 250.22999573 233.5        218.94999695\n",
      " 207.3999939  205.38000488 245.55999756 232.61999512 218.08999634\n",
      " 218.27999878 223.52000427 235.02000427 229.8999939  204.44000244\n",
      " 210.58000183 238.         218.78999329 227.75       204.75999451\n",
      " 238.5        236.1000061  246.07000732 235.02000427 221.53999329\n",
      " 206.25       234.47999573 234.03999329 200.46000671 233.53999329\n",
      " 254.88000488 224.66000366 214.69000244 242.         260.94000244\n",
      " 217.27000427 220.67999268 214.05999756 230.41999817 213.8999939\n",
      " 225.91000366 229.6000061 ]\n"
     ]
    }
   ],
   "source": [
    "# Train model using train data:\n",
    "X_train = sm.add_constant(X_train) # adding a constant\n",
    "\n",
    "model = sm.OLS(y_train, X_train).fit()\n",
    "print(model.summary())\n",
    "# Make predictions on test data\n",
    "X_test = sm.add_constant(X_test)\n",
    "predictions = model.predict(X_test)\n",
    "print(f'\\nPredictions: {predictions}')\n",
    "print(f'\\nActual data: {y_test}')\n"
   ]
  },
  {
   "cell_type": "code",
   "execution_count": 52,
   "metadata": {},
   "outputs": [
    {
     "name": "stdout",
     "output_type": "stream",
     "text": [
      "Price of ADP should go to $252.58592268434975\n"
     ]
    }
   ],
   "source": [
    "# Let's try making a prediction\n",
    "real_data_today = scaler.transform([[254.21,250.04,230.05,247.63,229.97,238.8]])\n",
    "real_data_today = np.insert(real_data_today[0], 0, 1) # Add constant like in the model to add a y-int\n",
    "predicted = model.predict(real_data_today)\n",
    "print(f'Price of {ticker} should go to ${predicted[0]}')"
   ]
  }
 ],
 "metadata": {
  "kernelspec": {
   "display_name": "Python 3.10.4 64-bit",
   "language": "python",
   "name": "python3"
  },
  "language_info": {
   "codemirror_mode": {
    "name": "ipython",
    "version": 3
   },
   "file_extension": ".py",
   "mimetype": "text/x-python",
   "name": "python",
   "nbconvert_exporter": "python",
   "pygments_lexer": "ipython3",
   "version": "3.10.4"
  },
  "orig_nbformat": 4,
  "vscode": {
   "interpreter": {
    "hash": "a04b3d8db570224f10d7b1a22e2b35d01d838e8faa9483510c17af6080baef52"
   }
  }
 },
 "nbformat": 4,
 "nbformat_minor": 2
}
