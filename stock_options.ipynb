{
 "cells": [
  {
   "cell_type": "markdown",
   "metadata": {},
   "source": [
    "# Importing packages"
   ]
  },
  {
   "cell_type": "code",
   "execution_count": 2,
   "metadata": {},
   "outputs": [],
   "source": [
    "import pandas as pd\n",
    "import numpy as np\n",
    "import matplotlib.pyplot as plt\n",
    "import requests\n",
    "import datetime as dt\n",
    "from dateutil.relativedelta import relativedelta\n",
    "from yahoo_fin.stock_info import get_data,tickers_dow as dow,tickers_nasdaq as nasdaq,tickers_sp500 as sp500,get_premarket_price,get_postmarket_price\n",
    "from yahoo_fin.options import get_calls,get_puts,get_expiration_dates"
   ]
  },
  {
   "cell_type": "markdown",
   "metadata": {},
   "source": [
    "# Calculating Bollinger Bands"
   ]
  },
  {
   "cell_type": "code",
   "execution_count": 3,
   "metadata": {},
   "outputs": [],
   "source": [
    "# Step 1: Calculate SMA (20-period)\n",
    "def get_SMA(closing_prices, days):\n",
    "    return closing_prices.rolling(days).mean()\n",
    "# Step 2: Calculate std. deviation (14-period)\n",
    "def get_std_dev(closing_prices, days):\n",
    "    return closing_prices.rolling(days).std()\n",
    "# Step 3: Create Bollinger Bands (1.5 std dev)\n",
    "def get_BB(closing_prices, SMA_days, std_dev_days, rate):\n",
    "    sma = get_SMA(closing_prices, SMA_days)\n",
    "    std_dev = get_std_dev(closing_prices, std_dev_days)\n",
    "    upper_bollinger = sma + std_dev*rate\n",
    "    lower_bollinger = sma - std_dev*rate\n",
    "    return upper_bollinger,lower_bollinger"
   ]
  },
  {
   "cell_type": "markdown",
   "metadata": {},
   "source": [
    "# Calculating Keltner Channels"
   ]
  },
  {
   "cell_type": "code",
   "execution_count": 4,
   "metadata": {},
   "outputs": [],
   "source": [
    "# Step 1: Calculate EMA (20-period)\n",
    "def get_EMA(closing_prices, days):\n",
    "    multiplier = 2 / (days + 1)\n",
    "    ema = [closing_prices[0]]\n",
    "    for price,EMA_yesterday in zip(closing_prices[1:],ema):\n",
    "        ema.append(price * multiplier + EMA_yesterday * (1 - multiplier))\n",
    "    return ema\n",
    "# Step 2: Calculate ATR (20-period)\n",
    "def get_ATR(high_prices,low_prices,closing_prices,days):\n",
    "    high_low = high_prices-low_prices\n",
    "    high_close = np.abs(high_prices-closing_prices.shift())\n",
    "    low_close = np.abs(low_prices-closing_prices.shift())\n",
    "    ranges = pd.concat([high_low,high_close,low_close],axis=1)\n",
    "    trueRange = np.max(ranges,axis=1)\n",
    "    atr = trueRange.rolling(days).sum()/days\n",
    "    return atr\n",
    "# Step 3: Calculate Keltner Channel\n",
    "def get_KC(ema,shift,atr):\n",
    "    upper_kc = ema + shift*atr\n",
    "    lower_kc = ema - shift*atr\n",
    "    return upper_kc,lower_kc"
   ]
  },
  {
   "cell_type": "markdown",
   "metadata": {},
   "source": [
    "# Calculate Momentum"
   ]
  },
  {
   "cell_type": "code",
   "execution_count": 5,
   "metadata": {},
   "outputs": [],
   "source": [
    "def get_momentum(closing_prices,days):\n",
    "    momentum = []\n",
    "    for day in range(days):\n",
    "        momentum.insert(day,None)\n",
    "    for current_price,previous_price in zip(closing_prices[days:],closing_prices):\n",
    "        momentum.append(current_price - previous_price)\n",
    "    return momentum"
   ]
  },
  {
   "cell_type": "markdown",
   "metadata": {},
   "source": [
    "# Gather data"
   ]
  },
  {
   "cell_type": "code",
   "execution_count": 6,
   "metadata": {},
   "outputs": [],
   "source": [
    "def gather_data(data):\n",
    "    if not isinstance(data,pd.core.frame.DataFrame):\n",
    "        df = pd.read_csv(data)\n",
    "    else:\n",
    "        df = data\n",
    "    closing_prices = df['close']\n",
    "    high_prices = df['high']\n",
    "    low_prices = df['low']\n",
    "    df['SMA'] = get_SMA(closing_prices,20)\n",
    "    df['EMA'] = get_EMA(closing_prices,20)\n",
    "    df['ATR'] = get_ATR(high_prices,low_prices,closing_prices,14)\n",
    "    df['upper_KC'],df['lower_KC'] = get_KC(df['EMA'],1.5,df['ATR'])\n",
    "    df['bollinger_up'],df['bollinger_down'] = get_BB(closing_prices,20,14,1.5)\n",
    "    df['MA'] = get_SMA(closing_prices,14)\n",
    "    df['momentum'] = get_momentum(closing_prices,14)\n",
    "    return df"
   ]
  },
  {
   "cell_type": "markdown",
   "metadata": {},
   "source": [
    "# Get Nasdaq 100 Tickers"
   ]
  },
  {
   "cell_type": "code",
   "execution_count": 7,
   "metadata": {},
   "outputs": [],
   "source": [
    "def get_nasdaq100():\n",
    "    tickers = []\n",
    "    headers={\"user-agent\": \"Mozilla/5.0 (Windows NT 10.0; Win64; x64) AppleWebKit/537.36 (KHTML, like Gecko) Chrome/92.0.4515.107 Safari/537.36\"}\n",
    "    res = requests.get(\"https://api.nasdaq.com/api/quote/list-type/nasdaq100\", headers=headers)\n",
    "    main_data = res.json()['data']['data']['rows']\n",
    "    for company in main_data:\n",
    "        tickers.append(company['symbol'])\n",
    "    return tickers"
   ]
  },
  {
   "cell_type": "markdown",
   "metadata": {},
   "source": [
    "# Screener Algorithm"
   ]
  },
  {
   "cell_type": "code",
   "execution_count": 8,
   "metadata": {},
   "outputs": [],
   "source": [
    "def screener(company):\n",
    "    calls = ''\n",
    "    puts = ''\n",
    "    #fails = ''\n",
    "    one_day_streak = ''\n",
    "    two_days_streak = ''\n",
    "    three_days_streak = ''\n",
    "    four_days_streak = ''\n",
    "    days_to_check = [-1,-2,-3,-4,-5]\n",
    "    current_status = ''\n",
    "    for day in days_to_check:\n",
    "        today = company.iloc[day]\n",
    "        ticker = today['ticker']\n",
    "        today_price = today['close']\n",
    "        today_upper_kc = today['upper_KC']\n",
    "        today_lower_kc = today['lower_KC']\n",
    "        today_upper_bb = today['bollinger_up']\n",
    "        today_lower_bb = today['bollinger_down']\n",
    "        today_ma = today['MA']\n",
    "        today_momentum = today['momentum']\n",
    "        if(today_upper_bb < today_upper_kc and today_lower_bb > today_lower_kc and today_price > today_ma and today_momentum > 0 and current_status!='put'):\n",
    "            calls = ticker\n",
    "            current_status = 'call'\n",
    "        elif(today_upper_bb < today_upper_kc and today_lower_bb > today_lower_kc and today_price < today_ma and today_momentum < 0 and current_status!='call'):\n",
    "            puts = ticker\n",
    "            current_status = 'put'\n",
    "        else:\n",
    "            if day ==-5:\n",
    "                calls = ''\n",
    "                puts = ''\n",
    "                four_days_streak = ticker + ' - ' + current_status\n",
    "            elif day ==-4:\n",
    "                calls = ''\n",
    "                puts = ''\n",
    "                three_days_streak = ticker + ' - ' + current_status\n",
    "            elif day ==-3:\n",
    "                calls = ''\n",
    "                puts = ''\n",
    "                two_days_streak = ticker + ' - ' + current_status\n",
    "            elif day ==-2:\n",
    "                calls = ''\n",
    "                puts = ''\n",
    "                one_day_streak = ticker + ' - ' + current_status\n",
    "            break\n",
    "    return calls,puts,one_day_streak,two_days_streak,three_days_streak,four_days_streak"
   ]
  },
  {
   "cell_type": "markdown",
   "metadata": {},
   "source": [
    "# Screener"
   ]
  },
  {
   "cell_type": "code",
   "execution_count": 9,
   "metadata": {},
   "outputs": [],
   "source": [
    "today = dt.date.today()\n",
    "last_year = (dt.datetime.now()-relativedelta(years=1))\n",
    "\n",
    "calls = []\n",
    "puts = []\n",
    "fails = []\n",
    "ones = []\n",
    "twos = []\n",
    "threes = []\n",
    "fours = []\n",
    "\n",
    "# Check an index\n",
    "def check_index(function):\n",
    "    index = function()\n",
    "    index_hist = {}\n",
    "    for ticker in index:\n",
    "        data = get_data(ticker, start_date = last_year, end_date = today, index_as_date = True, interval = '1d')\n",
    "        company = gather_data(data)\n",
    "        company_calls,company_puts,company_ones,company_twos,company_threes,company_fours = screener(company)\n",
    "        if company_calls!='':\n",
    "            calls.append(company_calls)\n",
    "        if company_puts!='':\n",
    "            puts.append(company_puts)\n",
    "        if company_ones!='':\n",
    "            ones.append(company_ones)\n",
    "        if company_twos!='':\n",
    "            twos.append(company_twos)\n",
    "        if company_threes!='':\n",
    "            threes.append(company_threes)\n",
    "        if company_fours!='':\n",
    "            fours.append(company_fours)\n",
    "    return calls,puts,ones,twos,threes,fours\n",
    "\n",
    "\n",
    "# Check individual stock\n",
    "def check_stock(ticker):\n",
    "    data = get_data(ticker, start_date = last_year, end_date = today, index_as_date = True, interval = '1d')\n",
    "    company = gather_data(data)\n",
    "    company_calls,company_puts,company_ones,company_twos,company_threes,company_fours = screener(company)\n",
    "    if company_calls!='':\n",
    "        calls.append(company_calls)\n",
    "    if company_puts!='':\n",
    "        puts.append(company_puts)\n",
    "    if company_ones!='':\n",
    "        ones.append(company_ones)\n",
    "    if company_twos!='':\n",
    "        twos.append(company_twos)\n",
    "    if company_threes!='':\n",
    "        threes.append(company_threes)\n",
    "    if company_fours!='':\n",
    "        fours.append(company_fours)\n",
    "    return calls,puts,ones,twos,threes,fours\n",
    "\n",
    "# Check custom stock\n",
    "def check_custom_stock(csv):\n",
    "    company = gather_data(csv)\n",
    "    company_calls,company_puts,company_ones,company_twos,company_threes,company_fours = screener(company)\n",
    "    if company_calls!='':\n",
    "        calls.append(company_calls)\n",
    "    if company_puts!='':\n",
    "        puts.append(company_puts)\n",
    "    if company_ones!='':\n",
    "        ones.append(company_ones)\n",
    "    if company_twos!='':\n",
    "        twos.append(company_twos)\n",
    "    if company_threes!='':\n",
    "        threes.append(company_threes)\n",
    "    if company_fours!='':\n",
    "        fours.append(company_fours)\n",
    "    return calls,puts,ones,twos,threes,fours"
   ]
  },
  {
   "cell_type": "markdown",
   "metadata": {},
   "source": [
    "# Check Nasdaq-100"
   ]
  },
  {
   "cell_type": "code",
   "execution_count": 10,
   "metadata": {},
   "outputs": [
    {
     "name": "stdout",
     "output_type": "stream",
     "text": [
      "Calls (3): ['EXC', 'ALGN', 'KHC']\n",
      "Puts (1): ['CEG']\n",
      "4-days Streak (2): ['DLTR - put', 'CDNS - put']\n",
      "3-days Streak (1): ['XEL - call']\n",
      "2-days Streak (4): ['MNST - call', 'ORLY - call', 'TMUS - put', 'MELI - put']\n",
      "1-day Streak (8): ['PCAR - put', 'CTAS - put', 'FISV - put', 'HON - put', 'PEP - put', 'FANG - put', 'JD - put', 'MRNA - put']\n"
     ]
    }
   ],
   "source": [
    "calls = []\n",
    "puts = []\n",
    "ones = []\n",
    "twos = []\n",
    "threes = []\n",
    "fours = []\n",
    "\n",
    "stock_calls,stock_puts,stock_ones,stock_twos,stock_threes,stock_fours = check_index(get_nasdaq100)\n",
    "print(f'Calls ({len(stock_calls)}): {stock_calls}\\nPuts ({len(stock_puts)}): {stock_puts}\\n4-days Streak ({len(stock_fours)}): {stock_fours}\\n3-days Streak ({len(stock_threes)}): {stock_threes}\\n2-days Streak ({len(stock_twos)}): {stock_twos}\\n1-day Streak ({len(stock_ones)}): {stock_ones}')"
   ]
  },
  {
   "cell_type": "markdown",
   "metadata": {},
   "source": [
    "# Check S&P500"
   ]
  },
  {
   "cell_type": "code",
   "execution_count": 11,
   "metadata": {},
   "outputs": [
    {
     "name": "stdout",
     "output_type": "stream",
     "text": [
      "Calls (15): ['ADM', 'ALGN', 'BA', 'CAG', 'CAT', 'CL', 'COO', 'DUK', 'EXC', 'KHC', 'LW', 'MRK', 'PCG', 'PG', 'SJM']\n",
      "Puts (8): ['AMT', 'BWA', 'C', 'CEG', 'DRI', 'EQT', 'LOW', 'RHI']\n",
      "4-days Streak (12): ['AEE - call', 'BLK - put', 'CDNS - put', 'CMS - call', 'CRM - put', 'D - call', 'DLTR - put', 'MOS - put', 'PTC - put', 'SBNY - put', 'SO - call', 'ZBRA - put']\n",
      "3-days Streak (31): ['AFL - call', 'AIG - call', 'APA - call', 'CB - call', 'CNP - call', 'CPB - call', 'CRL - call', 'CTLT - put', 'CVX - call', 'DAL - put', 'DTE - call', 'ES - call', 'FE - call', 'GL - call', 'HES - call', 'HIG - call', 'HOLX - call', 'HWM - call', 'IPG - call', 'KO - call', 'L - call', 'NEM - call', 'PEG - call', 'PNC - call', 'PPL - call', 'TDG - call', 'TRGP - call', 'TRV - call', 'XEL - call', 'XOM - call', 'ZION - call']\n",
      "2-days Streak (22): ['BRK-B - put', 'CAH - put', 'CMA - call', 'COP - call', 'DE - put', 'EL - call', 'EOG - call', 'EVRG - call', 'FSLR - put', 'JPM - call', 'LUMN - put', 'LYB - call', 'MET - put', 'MNST - call', 'NOC - call', 'NTRS - put', 'ORLY - call', 'RTX - call', 'TFC - call', 'TMUS - put', 'TSCO - call', 'WHR - put']\n",
      "1-day Streak (59): ['AME - put', 'AVY - put', 'BAC - call', 'BBWI - put', 'BDX - call', 'BEN - put', 'CE - put', 'CFG - put', 'CI - put', 'CTAS - put', 'CTRA - put', 'DG - put', 'DOW - put', 'DVA - put', 'DVN - put', 'DXC - put', 'EFX - put', 'FANG - put', 'FCX - put', 'FISV - put', 'FMC - put', 'GNRC - call', 'GPN - put', 'HCA - put', 'HII - put', 'HON - put', 'HSY - put', 'J - put', 'JBHT - put', 'JNJ - put', 'K - put', 'KMB - put', 'LEN - put', 'MDT - put', 'MRNA - put', 'MRO - put', 'NDSN - put', 'NI - put', 'NRG - put', 'NVR - put', 'O - put', 'OXY - put', 'PCAR - put', 'PEAK - put', 'PEP - put', 'PH - put', 'PKI - put', 'PM - put', 'RE - call', 'SPG - put', 'STT - put', 'TXT - put', 'WAB - put', 'WELL - put', 'WFC - put', 'WMB - put', 'WRB - put', 'WTW - put', 'WY - put']\n"
     ]
    }
   ],
   "source": [
    "calls = []\n",
    "puts = []\n",
    "ones = []\n",
    "twos = []\n",
    "threes = []\n",
    "fours = []\n",
    "\n",
    "stock_calls,stock_puts,stock_ones,stock_twos,stock_threes,stock_fours = check_index(sp500)\n",
    "#stock_calls,stock_puts,stock_ones,stock_twos,stock_threes,stock_fours = check_stock('CFG')\n",
    "print(f'Calls ({len(stock_calls)}): {stock_calls}\\nPuts ({len(stock_puts)}): {stock_puts}\\n4-days Streak ({len(stock_fours)}): {stock_fours}\\n3-days Streak ({len(stock_threes)}): {stock_threes}\\n2-days Streak ({len(stock_twos)}): {stock_twos}\\n1-day Streak ({len(stock_ones)}): {stock_ones}')"
   ]
  },
  {
   "cell_type": "markdown",
   "metadata": {},
   "source": [
    "# Check individual stock"
   ]
  },
  {
   "cell_type": "code",
   "execution_count": null,
   "metadata": {},
   "outputs": [],
   "source": [
    "calls = []\n",
    "puts = []\n",
    "ones = []\n",
    "twos = []\n",
    "threes = []\n",
    "fours = []\n",
    "\n",
    "stock_calls,stock_puts,stock_ones,stock_twos,stock_threes,stock_fours = check_stock('CFG')\n",
    "print(f'Calls ({len(stock_calls)}): {stock_calls}\\nPuts ({len(stock_puts)}): {stock_puts}\\n4-days Streak ({len(stock_fours)}): {stock_fours}\\n3-days Streak ({len(stock_threes)}): {stock_threes}\\n2-days Streak ({len(stock_twos)}): {stock_twos}\\n1-day Streak ({len(stock_ones)}): {stock_ones}')"
   ]
  },
  {
   "cell_type": "markdown",
   "metadata": {},
   "source": [
    "# Get pre/post market prices"
   ]
  },
  {
   "cell_type": "code",
   "execution_count": 9,
   "metadata": {},
   "outputs": [
    {
     "name": "stdout",
     "output_type": "stream",
     "text": [
      "CL Not pre/post market\n"
     ]
    }
   ],
   "source": [
    "def is_premarket(current):\n",
    "    start = dt.time(4,0,0)\n",
    "    end = dt.time(9,30,0)\n",
    "    return start<=current<=end\n",
    "\n",
    "def is_postmarket(current):\n",
    "    start = dt.time(16,0,0)\n",
    "    end = dt.time(20,0,0)\n",
    "    return start<=current<=end\n",
    "\n",
    "def get_pre_post_market(ticker,current_hour):\n",
    "    if is_premarket(current_hour):\n",
    "        data = f'{ticker} Premarket: {get_premarket_price(ticker)}'\n",
    "    elif is_postmarket(current_hour):\n",
    "        data = f'{ticker} Postmarket: {get_postmarket_price(ticker)}'\n",
    "    else:\n",
    "        data = f'{ticker} Not pre/post market'\n",
    "    #company = gather_data(data)\n",
    "    print(data)\n",
    "\n",
    "current_hour = dt.datetime.now().time()\n",
    "get_pre_post_market('CL',current_hour)"
   ]
  },
  {
   "cell_type": "markdown",
   "metadata": {},
   "source": [
    "# Plotter"
   ]
  },
  {
   "cell_type": "code",
   "execution_count": 1,
   "metadata": {},
   "outputs": [
    {
     "ename": "NameError",
     "evalue": "name 'dt' is not defined",
     "output_type": "error",
     "traceback": [
      "\u001b[0;31m---------------------------------------------------------------------------\u001b[0m",
      "\u001b[0;31mNameError\u001b[0m                                 Traceback (most recent call last)",
      "Cell \u001b[0;32mIn[1], line 3\u001b[0m\n\u001b[1;32m      1\u001b[0m get_ipython()\u001b[39m.\u001b[39mrun_line_magic(\u001b[39m'\u001b[39m\u001b[39mmatplotlib\u001b[39m\u001b[39m'\u001b[39m, \u001b[39m'\u001b[39m\u001b[39minline\u001b[39m\u001b[39m'\u001b[39m)\n\u001b[0;32m----> 3\u001b[0m today \u001b[39m=\u001b[39m dt\u001b[39m.\u001b[39mdate\u001b[39m.\u001b[39mtoday()\n\u001b[1;32m      4\u001b[0m last_year \u001b[39m=\u001b[39m (dt\u001b[39m.\u001b[39mdatetime\u001b[39m.\u001b[39mnow()\u001b[39m-\u001b[39mrelativedelta(years\u001b[39m=\u001b[39m\u001b[39m1\u001b[39m))\n\u001b[1;32m      5\u001b[0m ticker \u001b[39m=\u001b[39m \u001b[39m'\u001b[39m\u001b[39mCFG\u001b[39m\u001b[39m'\u001b[39m\n",
      "\u001b[0;31mNameError\u001b[0m: name 'dt' is not defined"
     ]
    }
   ],
   "source": [
    "%matplotlib inline\n",
    "\n",
    "today = dt.date.today()\n",
    "last_year = (dt.datetime.now()-relativedelta(years=1))\n",
    "ticker = 'CFG'\n",
    "data = get_data(ticker=ticker, start_date = last_year, end_date = None, index_as_date = True, interval = '1d')\n",
    "df = gather_data(data)\n",
    "plt.title(ticker + ' Graph')\n",
    "plt.xlabel('Days')\n",
    "plt.ylabel('Closing Prices')\n",
    "plt.plot(df['close'], label='Closing Prices')\n",
    "plt.plot(df['bollinger_up'], label='Bollinger Up', c='green')\n",
    "plt.plot(df['bollinger_down'], label='Bollinger Down', c='red')\n",
    "plt.plot(df['upper_KC'], label='Upper Keltner Channel', c='black')\n",
    "plt.plot(df['lower_KC'], label='Lower Keltner Channel', c='black')\n",
    "plt.plot(df['MA'], label='MA 14-Days', c='purple')\n",
    "plt.plot(df['momentum'], label='14-day Momentum', c='blue')\n",
    "plt.legend()\n",
    "plt.show()"
   ]
  }
 ],
 "metadata": {
  "kernelspec": {
   "display_name": "Python 3.8.10 ('venv': venv)",
   "language": "python",
   "name": "python3"
  },
  "language_info": {
   "codemirror_mode": {
    "name": "ipython",
    "version": 3
   },
   "file_extension": ".py",
   "mimetype": "text/x-python",
   "name": "python",
   "nbconvert_exporter": "python",
   "pygments_lexer": "ipython3",
   "version": "3.8.10"
  },
  "orig_nbformat": 4,
  "vscode": {
   "interpreter": {
    "hash": "d64b717179daf6ac5354dc3c64370a71f70e4ec0b4cec5c00d1b91dba46702ee"
   }
  }
 },
 "nbformat": 4,
 "nbformat_minor": 2
}
