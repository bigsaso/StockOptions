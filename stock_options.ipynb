{
 "cells": [
  {
   "cell_type": "markdown",
   "metadata": {},
   "source": [
    "# Importing packages"
   ]
  },
  {
   "cell_type": "code",
   "execution_count": 26,
   "metadata": {},
   "outputs": [],
   "source": [
    "import pandas as pd\n",
    "import numpy as np\n",
    "import matplotlib.pyplot as plt\n",
    "from sklearn.preprocessing import StandardScaler\n",
    "from keras.callbacks import EarlyStopping,ReduceLROnPlateau,ModelCheckpoint,TensorBoard\n",
    "import datetime as dt\n",
    "from dateutil.relativedelta import relativedelta\n",
    "from yahoo_fin.stock_info import get_data,tickers_dow as dow,tickers_nasdaq as nasdaq,tickers_sp500 as sp500,get_premarket_price,get_postmarket_price\n",
    "from yahoo_fin.options import get_calls,get_puts,get_expiration_dates"
   ]
  },
  {
   "cell_type": "markdown",
   "metadata": {},
   "source": [
    "# Calculating Bollinger Bands"
   ]
  },
  {
   "cell_type": "code",
   "execution_count": 2,
   "metadata": {},
   "outputs": [],
   "source": [
    "# Step 1: Calculate SMA (20-period)\n",
    "def get_SMA(closing_prices, days):\n",
    "    return closing_prices.rolling(days).mean()\n",
    "# Step 2: Calculate std. deviation (14-period)\n",
    "def get_std_dev(closing_prices, days):\n",
    "    return closing_prices.rolling(days).std()\n",
    "# Step 3: Create Bollinger Bands (1.5 std dev)\n",
    "def get_BB(closing_prices, SMA_days, std_dev_days, rate):\n",
    "    sma = get_SMA(closing_prices, SMA_days)\n",
    "    std_dev = get_std_dev(closing_prices, std_dev_days)\n",
    "    upper_bollinger = sma + std_dev*rate\n",
    "    lower_bollinger = sma - std_dev*rate\n",
    "    return upper_bollinger,lower_bollinger"
   ]
  },
  {
   "cell_type": "markdown",
   "metadata": {},
   "source": [
    "# Calculating Keltner Channels"
   ]
  },
  {
   "cell_type": "code",
   "execution_count": 3,
   "metadata": {},
   "outputs": [],
   "source": [
    "# Step 1: Calculate EMA (20-period)\n",
    "def get_EMA(closing_prices, days):\n",
    "    multiplier = 2 / (days + 1)\n",
    "    ema = [closing_prices[0]]\n",
    "    for price,EMA_yesterday in zip(closing_prices[1:],ema):\n",
    "        ema.append(price * multiplier + EMA_yesterday * (1 - multiplier))\n",
    "    return ema\n",
    "# Step 2: Calculate ATR (20-period)\n",
    "def get_ATR(high_prices,low_prices,closing_prices,days):\n",
    "    high_low = high_prices-low_prices\n",
    "    high_close = np.abs(high_prices-closing_prices.shift())\n",
    "    low_close = np.abs(low_prices-closing_prices.shift())\n",
    "    ranges = pd.concat([high_low,high_close,low_close],axis=1)\n",
    "    trueRange = np.max(ranges,axis=1)\n",
    "    atr = trueRange.rolling(days).sum()/days\n",
    "    return atr\n",
    "# Step 3: Calculate Keltner Channel\n",
    "def get_KC(ema,shift,atr):\n",
    "    upper_kc = ema + shift*atr\n",
    "    lower_kc = ema - shift*atr\n",
    "    return upper_kc,lower_kc"
   ]
  },
  {
   "cell_type": "markdown",
   "metadata": {},
   "source": [
    "# Calculate Momentum"
   ]
  },
  {
   "cell_type": "code",
   "execution_count": 4,
   "metadata": {},
   "outputs": [],
   "source": [
    "def get_momentum(closing_prices,days):\n",
    "    momentum = []\n",
    "    for day in range(days):\n",
    "        momentum.insert(day,None)\n",
    "    for current_price,previous_price in zip(closing_prices[days:],closing_prices):\n",
    "        momentum.append(current_price - previous_price)\n",
    "    return momentum"
   ]
  },
  {
   "cell_type": "markdown",
   "metadata": {},
   "source": [
    "# Gather data"
   ]
  },
  {
   "cell_type": "code",
   "execution_count": 5,
   "metadata": {},
   "outputs": [],
   "source": [
    "def gather_data(data):\n",
    "    if not isinstance(data,pd.core.frame.DataFrame):\n",
    "        df = pd.read_csv(data)\n",
    "    else:\n",
    "        df = data\n",
    "    closing_prices = df['close']\n",
    "    high_prices = df['high']\n",
    "    low_prices = df['low']\n",
    "    df['SMA'] = get_SMA(closing_prices,20)\n",
    "    df['EMA'] = get_EMA(closing_prices,20)\n",
    "    df['ATR'] = get_ATR(high_prices,low_prices,closing_prices,14)\n",
    "    df['upper_KC'],df['lower_KC'] = get_KC(df['EMA'],1.5,df['ATR'])\n",
    "    df['bollinger_up'],df['bollinger_down'] = get_BB(closing_prices,20,14,1.5)\n",
    "    df['MA'] = get_SMA(closing_prices,14)\n",
    "    df['momentum'] = get_momentum(closing_prices,14)\n",
    "    return df"
   ]
  },
  {
   "cell_type": "markdown",
   "metadata": {},
   "source": [
    "# Screener Algorithm"
   ]
  },
  {
   "cell_type": "code",
   "execution_count": 6,
   "metadata": {},
   "outputs": [],
   "source": [
    "def screener(company):\n",
    "    calls = ''\n",
    "    puts = ''\n",
    "    fail = ''\n",
    "    days_to_check = [-1,-2,-3,-4,-5]\n",
    "    current_status = ''\n",
    "    for day in days_to_check:\n",
    "        today = company.iloc[day]\n",
    "        ticker = today['ticker']\n",
    "        today_price = today['close']\n",
    "        today_upper_kc = today['upper_KC']\n",
    "        today_lower_kc = today['lower_KC']\n",
    "        today_upper_bb = today['bollinger_up']\n",
    "        today_lower_bb = today['bollinger_down']\n",
    "        today_ma = today['MA']\n",
    "        today_momentum = today['momentum']\n",
    "        if(today_upper_bb < today_upper_kc and today_lower_bb > today_lower_kc and today_price > today_ma and today_momentum > 0 and current_status!='put'):\n",
    "            calls = ticker\n",
    "            current_status = 'call'\n",
    "        elif(today_upper_bb < today_upper_kc and today_lower_bb > today_lower_kc and today_price < today_ma and today_momentum < 0 and current_status!='call'):\n",
    "            puts = ticker\n",
    "            current_status = 'put'\n",
    "        else:\n",
    "            if day !=-1:\n",
    "                calls = ''\n",
    "                puts = ''\n",
    "                fail = f'{ticker} failed {current_status} {(day)*(-1)-1} day(s) ago'\n",
    "            break\n",
    "    return calls,puts,fail"
   ]
  },
  {
   "cell_type": "markdown",
   "metadata": {},
   "source": [
    "# Screener"
   ]
  },
  {
   "cell_type": "code",
   "execution_count": 57,
   "metadata": {},
   "outputs": [],
   "source": [
    "today = dt.date.today()\n",
    "last_year = (dt.datetime.now()-relativedelta(years=1))\n",
    "\n",
    "calls = []\n",
    "puts = []\n",
    "fails = []\n",
    "\n",
    "# Check an index\n",
    "def check_index(function):\n",
    "    index = function()\n",
    "    index_hist = {}\n",
    "    for ticker in index:\n",
    "        data = get_data(ticker, start_date = last_year, end_date = today, index_as_date = True, interval = '1d')\n",
    "        company = gather_data(data)\n",
    "        company_calls,company_puts,company_fails = screener(company)\n",
    "        if company_calls!='':\n",
    "            calls.append(company_calls)\n",
    "        if company_puts!='':\n",
    "            puts.append(company_puts)\n",
    "        if company_fails!='':\n",
    "            fails.append(company_fails)\n",
    "    return calls,puts,fails\n",
    "\n",
    "\n",
    "# Check individual stock\n",
    "def check_stock(ticker):\n",
    "    data = get_data(ticker, start_date = last_year, end_date = today, index_as_date = True, interval = '1d')\n",
    "    company = gather_data(data)\n",
    "    company_calls,company_puts,company_fails = screener(company)\n",
    "    if company_calls!='':\n",
    "            calls.append(company_calls)\n",
    "    if company_puts!='':\n",
    "        puts.append(company_puts)\n",
    "    if company_fails!='':\n",
    "        fails.append(company_fails)\n",
    "    return calls,puts,fails\n",
    "\n",
    "# Check custom stock\n",
    "def check_custom_stock(csv):\n",
    "    company = gather_data(csv)\n",
    "    company_calls,company_puts,company_fails = screener(company)\n",
    "    if company_calls!='':\n",
    "            calls.append(company_calls)\n",
    "    if company_puts!='':\n",
    "        puts.append(company_puts)\n",
    "    if company_fails!='':\n",
    "        fails.append(company_fails)\n",
    "    return calls,puts,fails"
   ]
  },
  {
   "cell_type": "code",
   "execution_count": 58,
   "metadata": {},
   "outputs": [
    {
     "name": "stdout",
     "output_type": "stream",
     "text": [
      "calls (0): []\n",
      "puts (0): []\n",
      "fails (1): ['AXP failed call 3 day(s) ago']\n"
     ]
    }
   ],
   "source": [
    "#stock_calls,stock_puts,stock_fails = check_index(dow)\n",
    "stock_calls,stock_puts,stock_fails = check_stock('AXP')\n",
    "print(f'calls ({len(stock_calls)}): {stock_calls}\\nputs ({len(stock_puts)}): {stock_puts}\\nfails ({len(stock_fails)}): {stock_fails}')"
   ]
  },
  {
   "cell_type": "markdown",
   "metadata": {},
   "source": [
    "# Get pre/post market prices"
   ]
  },
  {
   "cell_type": "code",
   "execution_count": 11,
   "metadata": {},
   "outputs": [
    {
     "name": "stdout",
     "output_type": "stream",
     "text": [
      "146.76\n"
     ]
    }
   ],
   "source": [
    "def is_premarket(current):\n",
    "    start = dt.time(4,0,0)\n",
    "    end = dt.time(9,30,0)\n",
    "    return start<=current<=end\n",
    "\n",
    "def is_postmarket(current):\n",
    "    start = dt.time(16,0,0)\n",
    "    end = dt.time(20,0,0)\n",
    "    return start<=current<=end\n",
    "\n",
    "def get_pre_post_market(ticker,current_hour):\n",
    "    if is_premarket(current_hour):\n",
    "        data = get_premarket_price(ticker)\n",
    "    elif is_postmarket(current_hour):\n",
    "        data = get_postmarket_price(ticker)\n",
    "    else:\n",
    "        data = 'Not pre/post market'\n",
    "    #company = gather_data(data)\n",
    "    print(data)\n",
    "\n",
    "current_hour = dt.datetime.now().time()\n",
    "get_pre_post_market('AAPL',current_hour)"
   ]
  },
  {
   "cell_type": "markdown",
   "metadata": {},
   "source": [
    "# Plotter"
   ]
  },
  {
   "cell_type": "code",
   "execution_count": 59,
   "metadata": {},
   "outputs": [
    {
     "data": {
      "image/png": "[encoded data removed]",
      "text/plain": [
       "<Figure size 432x288 with 1 Axes>"
      ]
     },
     "metadata": {
      "needs_background": "light"
     },
     "output_type": "display_data"
    }
   ],
   "source": [
    "%matplotlib inline\n",
    "\n",
    "today = dt.date.today()\n",
    "last_year = (dt.datetime.now()-relativedelta(years=1))\n",
    "ticker = 'AXP'\n",
    "data = get_data(ticker=ticker, start_date = last_year, end_date = None, index_as_date = True, interval = '1d')\n",
    "df = gather_data(data)\n",
    "plt.title(ticker + ' Graph')\n",
    "plt.xlabel('Days')\n",
    "plt.ylabel('Closing Prices')\n",
    "plt.plot(df['close'], label='Closing Prices')\n",
    "plt.plot(df['bollinger_up'], label='Bollinger Up', c='green')\n",
    "plt.plot(df['bollinger_down'], label='Bollinger Down', c='red')\n",
    "plt.plot(df['upper_KC'], label='Upper Keltner Channel', c='black')\n",
    "plt.plot(df['lower_KC'], label='Lower Keltner Channel', c='black')\n",
    "plt.plot(df['MA'], label='MA 14-Days', c='purple')\n",
    "plt.plot(df['momentum'], label='14-day Momentum', c='blue')\n",
    "plt.legend()\n",
    "plt.show()"
   ]
  },
  {
   "cell_type": "markdown",
   "metadata": {},
   "source": [
    "# ML Predictions PART 1: Data Pre-Processing"
   ]
  },
  {
   "cell_type": "code",
   "execution_count": 55,
   "metadata": {},
   "outputs": [
    {
     "name": "stdout",
     "output_type": "stream",
     "text": [
      "                  open        high         low       close    adjclose  \\\n",
      "Date                                                                     \n",
      "2021-11-10  143.929993  146.300003  138.520004  139.869995  139.869995   \n",
      "2021-11-11  142.960007  146.470001  140.839996  146.009995  146.009995   \n",
      "2021-11-12  146.029999  148.589996  144.250000  147.889999  147.889999   \n",
      "2021-11-15  148.000000  148.979996  142.860001  146.490005  146.490005   \n",
      "2021-11-16  145.929993  153.080002  145.339996  152.449997  152.449997   \n",
      "\n",
      "              volume ticker  SMA         EMA  ATR  upper_KC  lower_KC  \\\n",
      "Date                                                                    \n",
      "2021-11-10  82989200    AMD  NaN  139.869995  NaN       NaN       NaN   \n",
      "2021-11-11  67934800    AMD  NaN  140.454757  NaN       NaN       NaN   \n",
      "2021-11-12  52162100    AMD  NaN  141.162875  NaN       NaN       NaN   \n",
      "2021-11-15  52271300    AMD  NaN  141.670221  NaN       NaN       NaN   \n",
      "2021-11-16  53100800    AMD  NaN  142.696866  NaN       NaN       NaN   \n",
      "\n",
      "            bollinger_up  bollinger_down  MA  momentum  \n",
      "Date                                                    \n",
      "2021-11-10           NaN             NaN NaN       NaN  \n",
      "2021-11-11           NaN             NaN NaN       NaN  \n",
      "2021-11-12           NaN             NaN NaN       NaN  \n",
      "2021-11-15           NaN             NaN NaN       NaN  \n",
      "2021-11-16           NaN             NaN NaN       NaN  \n",
      "Training set shape == (252, 16)\n",
      "All timestamps == 252\n",
      "Features selected: ['open', 'high', 'low', 'volume', 'upper_KC', 'lower_KC', 'bollinger_up', 'bollinger_down', 'MA', 'momentum', 'close']\n"
     ]
    }
   ],
   "source": [
    "# Step 1: Read data\n",
    "today = dt.date.today()\n",
    "last_year = (dt.datetime.now()-relativedelta(years=1))\n",
    "ticker = 'AMD'\n",
    "data = get_data(ticker, start_date = last_year, end_date = today, index_as_date = True, interval = '1d')\n",
    "dataset_train = gather_data(data)\n",
    "dataset_train.index.name = 'Date'\n",
    "#company.dropna(inplace=True)\n",
    "print(dataset_train.head())\n",
    "# Select features to be involved in training and prediction\n",
    "features = list(dataset_train[['open','high','low','volume','upper_KC','lower_KC','bollinger_up','bollinger_down','MA','momentum','close']])\n",
    "# Extract dates (will be used in visualiation)\n",
    "datelist_train = list(dataset_train.index)\n",
    "datelist_train = [date.strftime('%Y-%m-%d') for date in datelist_train]\n",
    "print('Training set shape == {}'.format(dataset_train.shape))\n",
    "print('All timestamps == {}'.format(len(datelist_train)))\n",
    "print('Features selected: {}'.format(features))"
   ]
  },
  {
   "cell_type": "code",
   "execution_count": 56,
   "metadata": {},
   "outputs": [
    {
     "name": "stdout",
     "output_type": "stream",
     "text": [
      "Shape of training set == (252, 11).\n",
      "[[139.86999512]\n",
      " [146.00999451]\n",
      " [147.88999939]\n",
      " [146.49000549]\n",
      " [152.44999695]\n",
      " [151.33999634]\n",
      " [155.02000427]\n",
      " [155.41000366]\n",
      " [152.52000427]\n",
      " [149.91999817]\n",
      " [157.80000305]\n",
      " [154.80999756]\n",
      " [161.91000366]\n",
      " [158.36999512]\n",
      " [149.11000061]\n",
      " [150.67999268]\n",
      " [144.00999451]\n",
      " [139.05999756]\n",
      " [144.8500061 ]\n",
      " [145.24000549]\n",
      " [138.1000061 ]\n",
      " [138.55000305]\n",
      " [133.80000305]\n",
      " [135.6000061 ]\n",
      " [146.5       ]\n",
      " [138.63999939]\n",
      " [137.75      ]\n",
      " [135.80000305]\n",
      " [144.25      ]\n",
      " [143.88000488]\n",
      " [146.13999939]\n",
      " [154.36000061]\n",
      " [153.1499939 ]\n",
      " [148.25999451]\n",
      " [145.1499939 ]\n",
      " [143.8999939 ]\n",
      " [150.24000549]\n",
      " [144.41999817]\n",
      " [136.1499939 ]\n",
      " [136.22999573]\n",
      " [132.        ]\n",
      " [132.        ]\n",
      " [137.30999756]\n",
      " [137.47000122]\n",
      " [132.74000549]\n",
      " [136.88000488]\n",
      " [131.92999268]\n",
      " [128.27000427]\n",
      " [121.88999939]\n",
      " [118.80999756]\n",
      " [116.52999878]\n",
      " [111.12999725]\n",
      " [110.70999908]\n",
      " [102.59999847]\n",
      " [105.23999786]\n",
      " [114.25      ]\n",
      " [116.77999878]\n",
      " [122.76000214]\n",
      " [120.08000183]\n",
      " [123.59999847]\n",
      " [123.66999817]\n",
      " [128.22999573]\n",
      " [132.8500061 ]\n",
      " [125.76999664]\n",
      " [113.18000031]\n",
      " [114.26999664]\n",
      " [121.47000122]\n",
      " [117.69000244]\n",
      " [112.37000275]\n",
      " [113.83000183]\n",
      " [115.65000153]\n",
      " [109.76000214]\n",
      " [116.61000061]\n",
      " [121.05999756]\n",
      " [123.33999634]\n",
      " [113.83000183]\n",
      " [118.27999878]\n",
      " [111.98000336]\n",
      " [108.41000366]\n",
      " [102.94999695]\n",
      " [105.52999878]\n",
      " [111.05000305]\n",
      " [106.45999908]\n",
      " [104.29000092]\n",
      " [102.25      ]\n",
      " [109.33000183]\n",
      " [115.37000275]\n",
      " [111.69000244]\n",
      " [113.45999908]\n",
      " [115.91999817]\n",
      " [114.77999878]\n",
      " [113.91999817]\n",
      " [120.52999878]\n",
      " [119.66999817]\n",
      " [120.23999786]\n",
      " [123.23000336]\n",
      " [119.22000122]\n",
      " [109.33999634]\n",
      " [108.19000244]\n",
      " [110.52999878]\n",
      " [106.81999969]\n",
      " [103.66999817]\n",
      " [103.72000122]\n",
      " [101.        ]\n",
      " [ 97.37000275]\n",
      " [ 95.09999847]\n",
      " [ 97.73999786]\n",
      " [ 93.05999756]\n",
      " [ 93.88999939]\n",
      " [ 96.93000031]\n",
      " [ 94.01999664]\n",
      " [ 89.84999847]\n",
      " [ 88.13999939]\n",
      " [ 90.69000244]\n",
      " [ 85.16000366]\n",
      " [ 84.91000366]\n",
      " [ 89.63999939]\n",
      " [ 85.51999664]\n",
      " [ 89.83999634]\n",
      " [ 91.12999725]\n",
      " [ 99.41999817]\n",
      " [ 93.87000275]\n",
      " [ 95.33999634]\n",
      " [ 86.36000061]\n",
      " [ 88.73000336]\n",
      " [ 87.91999817]\n",
      " [ 87.05999756]\n",
      " [ 95.12000275]\n",
      " [ 94.23999786]\n",
      " [102.47000122]\n",
      " [ 96.27999878]\n",
      " [ 96.66999817]\n",
      " [ 93.5       ]\n",
      " [ 95.06999969]\n",
      " [ 91.16000366]\n",
      " [ 92.65000153]\n",
      " [ 98.75      ]\n",
      " [102.26000214]\n",
      " [101.86000061]\n",
      " [101.22000122]\n",
      " [108.58999634]\n",
      " [106.30000305]\n",
      " [105.65000153]\n",
      " [105.27999878]\n",
      " [101.90000153]\n",
      " [ 98.80000305]\n",
      " [ 94.81999969]\n",
      " [ 86.98999786]\n",
      " [ 86.98999786]\n",
      " [ 89.30000305]\n",
      " [ 82.05000305]\n",
      " [ 81.56999969]\n",
      " [ 83.79000092]\n",
      " [ 83.75      ]\n",
      " [ 82.43000031]\n",
      " [ 87.08000183]\n",
      " [ 86.16000366]\n",
      " [ 80.77999878]\n",
      " [ 77.98999786]\n",
      " [ 76.47000122]\n",
      " [ 73.66999817]\n",
      " [ 75.19999695]\n",
      " [ 75.34999847]\n",
      " [ 79.30000305]\n",
      " [ 79.34999847]\n",
      " [ 76.94999695]\n",
      " [ 76.36000061]\n",
      " [ 77.51999664]\n",
      " [ 78.59999847]\n",
      " [ 81.11000061]\n",
      " [ 81.43000031]\n",
      " [ 85.87999725]\n",
      " [ 89.43000031]\n",
      " [ 91.08999634]\n",
      " [ 88.09999847]\n",
      " [ 87.54000092]\n",
      " [ 85.25      ]\n",
      " [ 89.81999969]\n",
      " [ 91.66999817]\n",
      " [ 94.47000122]\n",
      " [ 96.77999878]\n",
      " [ 99.29000092]\n",
      " [ 98.08999634]\n",
      " [103.91000366]\n",
      " [102.30999756]\n",
      " [100.06999969]\n",
      " [ 95.54000092]\n",
      " [ 99.05000305]\n",
      " [ 98.12000275]\n",
      " [100.83000183]\n",
      " [101.01000214]\n",
      " [100.19999695]\n",
      " [ 98.26999664]\n",
      " [100.44000244]\n",
      " [ 95.94999695]\n",
      " [ 92.83999634]\n",
      " [ 92.48999786]\n",
      " [ 92.73000336]\n",
      " [ 97.18000031]\n",
      " [ 91.18000031]\n",
      " [ 88.48999786]\n",
      " [ 86.94000244]\n",
      " [ 84.87000275]\n",
      " [ 82.33000183]\n",
      " [ 80.23999786]\n",
      " [ 78.72000122]\n",
      " [ 79.61000061]\n",
      " [ 82.77999878]\n",
      " [ 85.44999695]\n",
      " [ 84.63999939]\n",
      " [ 77.02999878]\n",
      " [ 77.44999695]\n",
      " [ 76.66000366]\n",
      " [ 76.51000214]\n",
      " [ 76.76999664]\n",
      " [ 75.25      ]\n",
      " [ 74.48000336]\n",
      " [ 69.5       ]\n",
      " [ 67.95999908]\n",
      " [ 66.30000305]\n",
      " [ 67.16999817]\n",
      " [ 68.36000061]\n",
      " [ 64.13999939]\n",
      " [ 63.36000061]\n",
      " [ 66.11000061]\n",
      " [ 67.90000153]\n",
      " [ 67.94000244]\n",
      " [ 67.84999847]\n",
      " [ 58.43999863]\n",
      " [ 57.81000137]\n",
      " [ 57.63000107]\n",
      " [ 57.84999847]\n",
      " [ 58.93999863]\n",
      " [ 55.93999863]\n",
      " [ 57.95999908]\n",
      " [ 57.91999817]\n",
      " [ 57.22999954]\n",
      " [ 57.77000046]\n",
      " [ 58.81999969]\n",
      " [ 58.70000076]\n",
      " [ 61.47000122]\n",
      " [ 59.72999954]\n",
      " [ 58.59999847]\n",
      " [ 62.00999832]\n",
      " [ 60.06000137]\n",
      " [ 59.65999985]\n",
      " [ 58.63000107]\n",
      " [ 60.11000061]\n",
      " [ 62.18999863]\n",
      " [ 63.08000183]\n",
      " [ 63.84999847]\n",
      " [ 59.91999817]]\n",
      "X_train shape == (142, 90, 10)\n",
      "y_train shape == (142, 0)\n"
     ]
    }
   ],
   "source": [
    "# Step 2: Data Pre-processing\n",
    "dataset_train = dataset_train[features].astype(str)\n",
    "for i in features:\n",
    "    for j in range(0,len(dataset_train)):\n",
    "        dataset_train[i][j] = dataset_train[i][j].replace(',','')\n",
    "dataset_train = dataset_train.astype(float)\n",
    "# Using multiple predictors (features)\n",
    "training_set = dataset_train.values\n",
    "print('Shape of training set == {}.'.format(training_set.shape))\n",
    "print(training_set[:, 10:11])\n",
    "# Feature Scaling\n",
    "scaler = StandardScaler()\n",
    "training_set_scaled = scaler.fit_transform(training_set)\n",
    "scaler_predict = StandardScaler()\n",
    "scaler_predict.fit_transform(training_set[:, 10:11])\n",
    "# Creating a data structure with 90 timestamps and 1 output\n",
    "X_train = []\n",
    "y_train = []\n",
    "n_future = 21 # number of days we want to predict into the future\n",
    "n_past = 90 # number of days we want to use to predict the future\n",
    "for i in range(n_past, len(training_set_scaled)-n_future +1):\n",
    "    X_train.append(training_set_scaled[i-n_past:i,0:dataset_train.shape[1]-1])\n",
    "    y_train.append(training_set_scaled[i+n_future:i+n_future,0])\n",
    "X_train,y_train = np.array(X_train),np.array(y_train)\n",
    "print('X_train shape == {}'.format(X_train.shape))\n",
    "print('y_train shape == {}'.format(y_train.shape))"
   ]
  },
  {
   "cell_type": "markdown",
   "metadata": {},
   "source": [
    "# ML Predictions PART 2: Create a model. Training"
   ]
  },
  {
   "cell_type": "code",
   "execution_count": null,
   "metadata": {},
   "outputs": [],
   "source": [
    "# Step 3: Building up the LSTM-based Neural Network\n"
   ]
  },
  {
   "cell_type": "code",
   "execution_count": null,
   "metadata": {},
   "outputs": [],
   "source": [
    "# Step 4: Start training\n"
   ]
  },
  {
   "cell_type": "markdown",
   "metadata": {},
   "source": [
    "# ML Predictions PART 3: Make future prediction"
   ]
  },
  {
   "cell_type": "code",
   "execution_count": null,
   "metadata": {},
   "outputs": [],
   "source": [
    "# Step 5: \n"
   ]
  },
  {
   "cell_type": "code",
   "execution_count": null,
   "metadata": {},
   "outputs": [],
   "source": [
    "# Step 6: Visualize the predictions\n"
   ]
  }
 ],
 "metadata": {
  "kernelspec": {
   "display_name": "Python 3.10.4 64-bit",
   "language": "python",
   "name": "python3"
  },
  "language_info": {
   "codemirror_mode": {
    "name": "ipython",
    "version": 3
   },
   "file_extension": ".py",
   "mimetype": "text/x-python",
   "name": "python",
   "nbconvert_exporter": "python",
   "pygments_lexer": "ipython3",
   "version": "3.10.4"
  },
  "orig_nbformat": 4,
  "vscode": {
   "interpreter": {
    "hash": "a04b3d8db570224f10d7b1a22e2b35d01d838e8faa9483510c17af6080baef52"
   }
  }
 },
 "nbformat": 4,
 "nbformat_minor": 2
}
