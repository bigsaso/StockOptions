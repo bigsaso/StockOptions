{
 "cells": [
  {
   "cell_type": "markdown",
   "metadata": {},
   "source": [
    "# Importing packages"
   ]
  },
  {
   "cell_type": "code",
   "execution_count": 2,
   "metadata": {},
   "outputs": [],
   "source": [
    "import pandas as pd\n",
    "import numpy as np\n",
    "import matplotlib.pyplot as plt\n",
    "import requests\n",
    "import datetime as dt\n",
    "from dateutil.relativedelta import relativedelta\n",
    "from yahoo_fin.stock_info import get_data,tickers_dow as dow,tickers_nasdaq as nasdaq,tickers_sp500 as sp500,get_premarket_price,get_postmarket_price\n",
    "from yahoo_fin.options import get_calls,get_puts,get_expiration_dates"
   ]
  },
  {
   "cell_type": "markdown",
   "metadata": {},
   "source": [
    "# Calculating Bollinger Bands"
   ]
  },
  {
   "cell_type": "code",
   "execution_count": 3,
   "metadata": {},
   "outputs": [],
   "source": [
    "# Step 1: Calculate SMA (20-period)\n",
    "def get_SMA(closing_prices, days):\n",
    "    return closing_prices.rolling(days).mean()\n",
    "# Step 2: Calculate std. deviation (14-period)\n",
    "def get_std_dev(closing_prices, days):\n",
    "    return closing_prices.rolling(days).std()\n",
    "# Step 3: Create Bollinger Bands (1.5 std dev)\n",
    "def get_BB(closing_prices, SMA_days, std_dev_days, rate):\n",
    "    sma = get_SMA(closing_prices, SMA_days)\n",
    "    std_dev = get_std_dev(closing_prices, std_dev_days)\n",
    "    upper_bollinger = sma + std_dev*rate\n",
    "    lower_bollinger = sma - std_dev*rate\n",
    "    return upper_bollinger,lower_bollinger"
   ]
  },
  {
   "cell_type": "markdown",
   "metadata": {},
   "source": [
    "# Calculating Keltner Channels"
   ]
  },
  {
   "cell_type": "code",
   "execution_count": 4,
   "metadata": {},
   "outputs": [],
   "source": [
    "# Step 1: Calculate EMA (20-period)\n",
    "def get_EMA(closing_prices, days):\n",
    "    multiplier = 2 / (days + 1)\n",
    "    ema = [closing_prices[0]]\n",
    "    for price,EMA_yesterday in zip(closing_prices[1:],ema):\n",
    "        ema.append(price * multiplier + EMA_yesterday * (1 - multiplier))\n",
    "    return ema\n",
    "# Step 2: Calculate ATR (20-period)\n",
    "def get_ATR(high_prices,low_prices,closing_prices,days):\n",
    "    high_low = high_prices-low_prices\n",
    "    high_close = np.abs(high_prices-closing_prices.shift())\n",
    "    low_close = np.abs(low_prices-closing_prices.shift())\n",
    "    ranges = pd.concat([high_low,high_close,low_close],axis=1)\n",
    "    trueRange = np.max(ranges,axis=1)\n",
    "    atr = trueRange.rolling(days).sum()/days\n",
    "    return atr\n",
    "# Step 3: Calculate Keltner Channel\n",
    "def get_KC(ema,shift,atr):\n",
    "    upper_kc = ema + shift*atr\n",
    "    lower_kc = ema - shift*atr\n",
    "    return upper_kc,lower_kc"
   ]
  },
  {
   "cell_type": "markdown",
   "metadata": {},
   "source": [
    "# Calculate Momentum"
   ]
  },
  {
   "cell_type": "code",
   "execution_count": 5,
   "metadata": {},
   "outputs": [],
   "source": [
    "def get_momentum(closing_prices,days):\n",
    "    momentum = []\n",
    "    for day in range(days):\n",
    "        momentum.insert(day,None)\n",
    "    for current_price,previous_price in zip(closing_prices[days:],closing_prices):\n",
    "        momentum.append(current_price - previous_price)\n",
    "    return momentum"
   ]
  },
  {
   "cell_type": "markdown",
   "metadata": {},
   "source": [
    "# Gather data"
   ]
  },
  {
   "cell_type": "code",
   "execution_count": 6,
   "metadata": {},
   "outputs": [],
   "source": [
    "def gather_data(data):\n",
    "    if not isinstance(data,pd.core.frame.DataFrame):\n",
    "        df = pd.read_csv(data)\n",
    "    else:\n",
    "        df = data\n",
    "    closing_prices = df['close']\n",
    "    high_prices = df['high']\n",
    "    low_prices = df['low']\n",
    "    df['SMA'] = get_SMA(closing_prices,20)\n",
    "    df['EMA'] = get_EMA(closing_prices,20)\n",
    "    df['ATR'] = get_ATR(high_prices,low_prices,closing_prices,14)\n",
    "    df['upper_KC'],df['lower_KC'] = get_KC(df['EMA'],1.5,df['ATR'])\n",
    "    df['bollinger_up'],df['bollinger_down'] = get_BB(closing_prices,20,14,1.5)\n",
    "    df['MA'] = get_SMA(closing_prices,14)\n",
    "    df['momentum'] = get_momentum(closing_prices,14)\n",
    "    return df"
   ]
  },
  {
   "cell_type": "markdown",
   "metadata": {},
   "source": [
    "# Get Nasdaq 100 Tickers"
   ]
  },
  {
   "cell_type": "code",
   "execution_count": 7,
   "metadata": {},
   "outputs": [],
   "source": [
    "def get_nasdaq100():\n",
    "    tickers = []\n",
    "    headers={\"user-agent\": \"Mozilla/5.0 (Windows NT 10.0; Win64; x64) AppleWebKit/537.36 (KHTML, like Gecko) Chrome/92.0.4515.107 Safari/537.36\"}\n",
    "    res = requests.get(\"https://api.nasdaq.com/api/quote/list-type/nasdaq100\", headers=headers)\n",
    "    main_data = res.json()['data']['data']['rows']\n",
    "    for company in main_data:\n",
    "        tickers.append(company['symbol'])\n",
    "    return tickers"
   ]
  },
  {
   "cell_type": "markdown",
   "metadata": {},
   "source": [
    "# Screener Algorithm"
   ]
  },
  {
   "cell_type": "code",
   "execution_count": 8,
   "metadata": {},
   "outputs": [],
   "source": [
    "def screener(company):\n",
    "    calls = ''\n",
    "    puts = ''\n",
    "    #fails = ''\n",
    "    one_day_streak = ''\n",
    "    two_days_streak = ''\n",
    "    three_days_streak = ''\n",
    "    four_days_streak = ''\n",
    "    days_to_check = [-1,-2,-3,-4,-5]\n",
    "    current_status = ''\n",
    "    for day in days_to_check:\n",
    "        today = company.iloc[day]\n",
    "        ticker = today['ticker']\n",
    "        today_price = today['close']\n",
    "        today_upper_kc = today['upper_KC']\n",
    "        today_lower_kc = today['lower_KC']\n",
    "        today_upper_bb = today['bollinger_up']\n",
    "        today_lower_bb = today['bollinger_down']\n",
    "        today_ma = today['MA']\n",
    "        today_momentum = today['momentum']\n",
    "        if(today_upper_bb < today_upper_kc and today_lower_bb > today_lower_kc and today_price > today_ma and today_momentum > 0 and current_status!='put'):\n",
    "            calls = ticker\n",
    "            current_status = 'call'\n",
    "        elif(today_upper_bb < today_upper_kc and today_lower_bb > today_lower_kc and today_price < today_ma and today_momentum < 0 and current_status!='call'):\n",
    "            puts = ticker\n",
    "            current_status = 'put'\n",
    "        else:\n",
    "            if day ==-5:\n",
    "                calls = ''\n",
    "                puts = ''\n",
    "                four_days_streak = ticker + ' - ' + current_status\n",
    "            elif day ==-4:\n",
    "                calls = ''\n",
    "                puts = ''\n",
    "                three_days_streak = ticker + ' - ' + current_status\n",
    "            elif day ==-3:\n",
    "                calls = ''\n",
    "                puts = ''\n",
    "                two_days_streak = ticker + ' - ' + current_status\n",
    "            elif day ==-2:\n",
    "                calls = ''\n",
    "                puts = ''\n",
    "                one_day_streak = ticker + ' - ' + current_status\n",
    "            break\n",
    "    return calls,puts,one_day_streak,two_days_streak,three_days_streak,four_days_streak"
   ]
  },
  {
   "cell_type": "markdown",
   "metadata": {},
   "source": [
    "# Screener"
   ]
  },
  {
   "cell_type": "code",
   "execution_count": 9,
   "metadata": {},
   "outputs": [],
   "source": [
    "today = dt.date.today()\n",
    "last_year = (dt.datetime.now()-relativedelta(years=1))\n",
    "\n",
    "calls = []\n",
    "puts = []\n",
    "fails = []\n",
    "ones = []\n",
    "twos = []\n",
    "threes = []\n",
    "fours = []\n",
    "\n",
    "# Check an index\n",
    "def check_index(function):\n",
    "    index = function()\n",
    "    index_hist = {}\n",
    "    for ticker in index:\n",
    "        data = get_data(ticker, start_date = last_year, end_date = today, index_as_date = True, interval = '1d')\n",
    "        company = gather_data(data)\n",
    "        company_calls,company_puts,company_ones,company_twos,company_threes,company_fours = screener(company)\n",
    "        if company_calls!='':\n",
    "            calls.append(company_calls)\n",
    "        if company_puts!='':\n",
    "            puts.append(company_puts)\n",
    "        if company_ones!='':\n",
    "            ones.append(company_ones)\n",
    "        if company_twos!='':\n",
    "            twos.append(company_twos)\n",
    "        if company_threes!='':\n",
    "            threes.append(company_threes)\n",
    "        if company_fours!='':\n",
    "            fours.append(company_fours)\n",
    "    return calls,puts,ones,twos,threes,fours\n",
    "\n",
    "\n",
    "# Check individual stock\n",
    "def check_stock(ticker):\n",
    "    data = get_data(ticker, start_date = last_year, end_date = today, index_as_date = True, interval = '1d')\n",
    "    company = gather_data(data)\n",
    "    company_calls,company_puts,company_ones,company_twos,company_threes,company_fours = screener(company)\n",
    "    if company_calls!='':\n",
    "        calls.append(company_calls)\n",
    "    if company_puts!='':\n",
    "        puts.append(company_puts)\n",
    "    if company_ones!='':\n",
    "        ones.append(company_ones)\n",
    "    if company_twos!='':\n",
    "        twos.append(company_twos)\n",
    "    if company_threes!='':\n",
    "        threes.append(company_threes)\n",
    "    if company_fours!='':\n",
    "        fours.append(company_fours)\n",
    "    return calls,puts,ones,twos,threes,fours\n",
    "\n",
    "# Check custom stock\n",
    "def check_custom_stock(csv):\n",
    "    company = gather_data(csv)\n",
    "    company_calls,company_puts,company_ones,company_twos,company_threes,company_fours = screener(company)\n",
    "    if company_calls!='':\n",
    "        calls.append(company_calls)\n",
    "    if company_puts!='':\n",
    "        puts.append(company_puts)\n",
    "    if company_ones!='':\n",
    "        ones.append(company_ones)\n",
    "    if company_twos!='':\n",
    "        twos.append(company_twos)\n",
    "    if company_threes!='':\n",
    "        threes.append(company_threes)\n",
    "    if company_fours!='':\n",
    "        fours.append(company_fours)\n",
    "    return calls,puts,ones,twos,threes,fours"
   ]
  },
  {
   "cell_type": "markdown",
   "metadata": {},
   "source": [
    "# Check Nasdaq-100"
   ]
  },
  {
   "cell_type": "code",
   "execution_count": 10,
   "metadata": {},
   "outputs": [
    {
     "name": "stdout",
     "output_type": "stream",
     "text": [
      "Calls (3): ['MNST', 'EXC', 'KHC']\n",
      "Puts (5): ['PCAR', 'CDNS', 'PEP', 'TMUS', 'MELI']\n",
      "4-days Streak (2): ['SNPS - put', 'META - call']\n",
      "3-days Streak (2): ['CTAS - put', 'DLTR - put']\n",
      "2-days Streak (4): ['AMGN - put', 'ADSK - put', 'FANG - put', 'ZM - put']\n",
      "1-day Streak (15): ['ROST - call', 'FISV - call', 'CSCO - put', 'SIRI - put', 'BKNG - call', 'AMD - put', 'HON - put', 'SGEN - call', 'GOOGL - put', 'ATVI - call', 'GOOG - put', 'BKR - put', 'KDP - put', 'AMZN - put', 'COST - put']\n"
     ]
    }
   ],
   "source": [
    "calls = []\n",
    "puts = []\n",
    "ones = []\n",
    "twos = []\n",
    "threes = []\n",
    "fours = []\n",
    "\n",
    "stock_calls,stock_puts,stock_ones,stock_twos,stock_threes,stock_fours = check_index(get_nasdaq100)\n",
    "print(f'Calls ({len(stock_calls)}): {stock_calls}\\nPuts ({len(stock_puts)}): {stock_puts}\\n4-days Streak ({len(stock_fours)}): {stock_fours}\\n3-days Streak ({len(stock_threes)}): {stock_threes}\\n2-days Streak ({len(stock_twos)}): {stock_twos}\\n1-day Streak ({len(stock_ones)}): {stock_ones}')"
   ]
  },
  {
   "cell_type": "markdown",
   "metadata": {},
   "source": [
    "# Check S&P500"
   ]
  },
  {
   "cell_type": "code",
   "execution_count": 11,
   "metadata": {},
   "outputs": [
    {
     "ename": "ValueError",
     "evalue": "Length of values (14) does not match length of index (13)",
     "output_type": "error",
     "traceback": [
      "\u001b[0;31m---------------------------------------------------------------------------\u001b[0m",
      "\u001b[0;31mValueError\u001b[0m                                Traceback (most recent call last)",
      "Cell \u001b[0;32mIn[11], line 8\u001b[0m\n\u001b[1;32m      5\u001b[0m threes \u001b[39m=\u001b[39m []\n\u001b[1;32m      6\u001b[0m fours \u001b[39m=\u001b[39m []\n\u001b[0;32m----> 8\u001b[0m stock_calls,stock_puts,stock_ones,stock_twos,stock_threes,stock_fours \u001b[39m=\u001b[39m check_index(sp500)\n\u001b[1;32m      9\u001b[0m \u001b[39mprint\u001b[39m(\u001b[39mf\u001b[39m\u001b[39m'\u001b[39m\u001b[39mCalls (\u001b[39m\u001b[39m{\u001b[39;00m\u001b[39mlen\u001b[39m(stock_calls)\u001b[39m}\u001b[39;00m\u001b[39m): \u001b[39m\u001b[39m{\u001b[39;00mstock_calls\u001b[39m}\u001b[39;00m\u001b[39m\\n\u001b[39;00m\u001b[39mPuts (\u001b[39m\u001b[39m{\u001b[39;00m\u001b[39mlen\u001b[39m(stock_puts)\u001b[39m}\u001b[39;00m\u001b[39m): \u001b[39m\u001b[39m{\u001b[39;00mstock_puts\u001b[39m}\u001b[39;00m\u001b[39m\\n\u001b[39;00m\u001b[39m4-days Streak (\u001b[39m\u001b[39m{\u001b[39;00m\u001b[39mlen\u001b[39m(stock_fours)\u001b[39m}\u001b[39;00m\u001b[39m): \u001b[39m\u001b[39m{\u001b[39;00mstock_fours\u001b[39m}\u001b[39;00m\u001b[39m\\n\u001b[39;00m\u001b[39m3-days Streak (\u001b[39m\u001b[39m{\u001b[39;00m\u001b[39mlen\u001b[39m(stock_threes)\u001b[39m}\u001b[39;00m\u001b[39m): \u001b[39m\u001b[39m{\u001b[39;00mstock_threes\u001b[39m}\u001b[39;00m\u001b[39m\\n\u001b[39;00m\u001b[39m2-days Streak (\u001b[39m\u001b[39m{\u001b[39;00m\u001b[39mlen\u001b[39m(stock_twos)\u001b[39m}\u001b[39;00m\u001b[39m): \u001b[39m\u001b[39m{\u001b[39;00mstock_twos\u001b[39m}\u001b[39;00m\u001b[39m\\n\u001b[39;00m\u001b[39m1-day Streak (\u001b[39m\u001b[39m{\u001b[39;00m\u001b[39mlen\u001b[39m(stock_ones)\u001b[39m}\u001b[39;00m\u001b[39m): \u001b[39m\u001b[39m{\u001b[39;00mstock_ones\u001b[39m}\u001b[39;00m\u001b[39m'\u001b[39m)\n",
      "Cell \u001b[0;32mIn[9], line 18\u001b[0m, in \u001b[0;36mcheck_index\u001b[0;34m(function)\u001b[0m\n\u001b[1;32m     16\u001b[0m \u001b[39mfor\u001b[39;00m ticker \u001b[39min\u001b[39;00m index:\n\u001b[1;32m     17\u001b[0m     data \u001b[39m=\u001b[39m get_data(ticker, start_date \u001b[39m=\u001b[39m last_year, end_date \u001b[39m=\u001b[39m today, index_as_date \u001b[39m=\u001b[39m \u001b[39mTrue\u001b[39;00m, interval \u001b[39m=\u001b[39m \u001b[39m'\u001b[39m\u001b[39m1d\u001b[39m\u001b[39m'\u001b[39m)\n\u001b[0;32m---> 18\u001b[0m     company \u001b[39m=\u001b[39m gather_data(data)\n\u001b[1;32m     19\u001b[0m     company_calls,company_puts,company_ones,company_twos,company_threes,company_fours \u001b[39m=\u001b[39m screener(company)\n\u001b[1;32m     20\u001b[0m     \u001b[39mif\u001b[39;00m company_calls\u001b[39m!=\u001b[39m\u001b[39m'\u001b[39m\u001b[39m'\u001b[39m:\n",
      "Cell \u001b[0;32mIn[6], line 15\u001b[0m, in \u001b[0;36mgather_data\u001b[0;34m(data)\u001b[0m\n\u001b[1;32m     13\u001b[0m df[\u001b[39m'\u001b[39m\u001b[39mbollinger_up\u001b[39m\u001b[39m'\u001b[39m],df[\u001b[39m'\u001b[39m\u001b[39mbollinger_down\u001b[39m\u001b[39m'\u001b[39m] \u001b[39m=\u001b[39m get_BB(closing_prices,\u001b[39m20\u001b[39m,\u001b[39m14\u001b[39m,\u001b[39m1.5\u001b[39m)\n\u001b[1;32m     14\u001b[0m df[\u001b[39m'\u001b[39m\u001b[39mMA\u001b[39m\u001b[39m'\u001b[39m] \u001b[39m=\u001b[39m get_SMA(closing_prices,\u001b[39m14\u001b[39m)\n\u001b[0;32m---> 15\u001b[0m df[\u001b[39m'\u001b[39;49m\u001b[39mmomentum\u001b[39;49m\u001b[39m'\u001b[39;49m] \u001b[39m=\u001b[39m get_momentum(closing_prices,\u001b[39m14\u001b[39m)\n\u001b[1;32m     16\u001b[0m \u001b[39mreturn\u001b[39;00m df\n",
      "File \u001b[0;32m~/Projects/AI/StockOptions/venv/lib/python3.8/site-packages/pandas/core/frame.py:3978\u001b[0m, in \u001b[0;36mDataFrame.__setitem__\u001b[0;34m(self, key, value)\u001b[0m\n\u001b[1;32m   3975\u001b[0m     \u001b[39mself\u001b[39m\u001b[39m.\u001b[39m_setitem_array([key], value)\n\u001b[1;32m   3976\u001b[0m \u001b[39melse\u001b[39;00m:\n\u001b[1;32m   3977\u001b[0m     \u001b[39m# set column\u001b[39;00m\n\u001b[0;32m-> 3978\u001b[0m     \u001b[39mself\u001b[39;49m\u001b[39m.\u001b[39;49m_set_item(key, value)\n",
      "File \u001b[0;32m~/Projects/AI/StockOptions/venv/lib/python3.8/site-packages/pandas/core/frame.py:4172\u001b[0m, in \u001b[0;36mDataFrame._set_item\u001b[0;34m(self, key, value)\u001b[0m\n\u001b[1;32m   4162\u001b[0m \u001b[39mdef\u001b[39;00m \u001b[39m_set_item\u001b[39m(\u001b[39mself\u001b[39m, key, value) \u001b[39m-\u001b[39m\u001b[39m>\u001b[39m \u001b[39mNone\u001b[39;00m:\n\u001b[1;32m   4163\u001b[0m \u001b[39m    \u001b[39m\u001b[39m\"\"\"\u001b[39;00m\n\u001b[1;32m   4164\u001b[0m \u001b[39m    Add series to DataFrame in specified column.\u001b[39;00m\n\u001b[1;32m   4165\u001b[0m \n\u001b[0;32m   (...)\u001b[0m\n\u001b[1;32m   4170\u001b[0m \u001b[39m    ensure homogeneity.\u001b[39;00m\n\u001b[1;32m   4171\u001b[0m \u001b[39m    \"\"\"\u001b[39;00m\n\u001b[0;32m-> 4172\u001b[0m     value \u001b[39m=\u001b[39m \u001b[39mself\u001b[39;49m\u001b[39m.\u001b[39;49m_sanitize_column(value)\n\u001b[1;32m   4174\u001b[0m     \u001b[39mif\u001b[39;00m (\n\u001b[1;32m   4175\u001b[0m         key \u001b[39min\u001b[39;00m \u001b[39mself\u001b[39m\u001b[39m.\u001b[39mcolumns\n\u001b[1;32m   4176\u001b[0m         \u001b[39mand\u001b[39;00m value\u001b[39m.\u001b[39mndim \u001b[39m==\u001b[39m \u001b[39m1\u001b[39m\n\u001b[1;32m   4177\u001b[0m         \u001b[39mand\u001b[39;00m \u001b[39mnot\u001b[39;00m is_extension_array_dtype(value)\n\u001b[1;32m   4178\u001b[0m     ):\n\u001b[1;32m   4179\u001b[0m         \u001b[39m# broadcast across multiple columns if necessary\u001b[39;00m\n\u001b[1;32m   4180\u001b[0m         \u001b[39mif\u001b[39;00m \u001b[39mnot\u001b[39;00m \u001b[39mself\u001b[39m\u001b[39m.\u001b[39mcolumns\u001b[39m.\u001b[39mis_unique \u001b[39mor\u001b[39;00m \u001b[39misinstance\u001b[39m(\u001b[39mself\u001b[39m\u001b[39m.\u001b[39mcolumns, MultiIndex):\n",
      "File \u001b[0;32m~/Projects/AI/StockOptions/venv/lib/python3.8/site-packages/pandas/core/frame.py:4912\u001b[0m, in \u001b[0;36mDataFrame._sanitize_column\u001b[0;34m(self, value)\u001b[0m\n\u001b[1;32m   4909\u001b[0m     \u001b[39mreturn\u001b[39;00m _reindex_for_setitem(Series(value), \u001b[39mself\u001b[39m\u001b[39m.\u001b[39mindex)\n\u001b[1;32m   4911\u001b[0m \u001b[39mif\u001b[39;00m is_list_like(value):\n\u001b[0;32m-> 4912\u001b[0m     com\u001b[39m.\u001b[39;49mrequire_length_match(value, \u001b[39mself\u001b[39;49m\u001b[39m.\u001b[39;49mindex)\n\u001b[1;32m   4913\u001b[0m \u001b[39mreturn\u001b[39;00m sanitize_array(value, \u001b[39mself\u001b[39m\u001b[39m.\u001b[39mindex, copy\u001b[39m=\u001b[39m\u001b[39mTrue\u001b[39;00m, allow_2d\u001b[39m=\u001b[39m\u001b[39mTrue\u001b[39;00m)\n",
      "File \u001b[0;32m~/Projects/AI/StockOptions/venv/lib/python3.8/site-packages/pandas/core/common.py:561\u001b[0m, in \u001b[0;36mrequire_length_match\u001b[0;34m(data, index)\u001b[0m\n\u001b[1;32m    557\u001b[0m \u001b[39m\u001b[39m\u001b[39m\"\"\"\u001b[39;00m\n\u001b[1;32m    558\u001b[0m \u001b[39mCheck the length of data matches the length of the index.\u001b[39;00m\n\u001b[1;32m    559\u001b[0m \u001b[39m\"\"\"\u001b[39;00m\n\u001b[1;32m    560\u001b[0m \u001b[39mif\u001b[39;00m \u001b[39mlen\u001b[39m(data) \u001b[39m!=\u001b[39m \u001b[39mlen\u001b[39m(index):\n\u001b[0;32m--> 561\u001b[0m     \u001b[39mraise\u001b[39;00m \u001b[39mValueError\u001b[39;00m(\n\u001b[1;32m    562\u001b[0m         \u001b[39m\"\u001b[39m\u001b[39mLength of values \u001b[39m\u001b[39m\"\u001b[39m\n\u001b[1;32m    563\u001b[0m         \u001b[39mf\u001b[39m\u001b[39m\"\u001b[39m\u001b[39m(\u001b[39m\u001b[39m{\u001b[39;00m\u001b[39mlen\u001b[39m(data)\u001b[39m}\u001b[39;00m\u001b[39m) \u001b[39m\u001b[39m\"\u001b[39m\n\u001b[1;32m    564\u001b[0m         \u001b[39m\"\u001b[39m\u001b[39mdoes not match length of index \u001b[39m\u001b[39m\"\u001b[39m\n\u001b[1;32m    565\u001b[0m         \u001b[39mf\u001b[39m\u001b[39m\"\u001b[39m\u001b[39m(\u001b[39m\u001b[39m{\u001b[39;00m\u001b[39mlen\u001b[39m(index)\u001b[39m}\u001b[39;00m\u001b[39m)\u001b[39m\u001b[39m\"\u001b[39m\n\u001b[1;32m    566\u001b[0m     )\n",
      "\u001b[0;31mValueError\u001b[0m: Length of values (14) does not match length of index (13)"
     ]
    }
   ],
   "source": [
    "calls = []\n",
    "puts = []\n",
    "ones = []\n",
    "twos = []\n",
    "threes = []\n",
    "fours = []\n",
    "\n",
    "stock_calls,stock_puts,stock_ones,stock_twos,stock_threes,stock_fours = check_index(sp500)\n",
    "print(f'Calls ({len(stock_calls)}): {stock_calls}\\nPuts ({len(stock_puts)}): {stock_puts}\\n4-days Streak ({len(stock_fours)}): {stock_fours}\\n3-days Streak ({len(stock_threes)}): {stock_threes}\\n2-days Streak ({len(stock_twos)}): {stock_twos}\\n1-day Streak ({len(stock_ones)}): {stock_ones}')"
   ]
  },
  {
   "cell_type": "markdown",
   "metadata": {},
   "source": [
    "# Check individual stock"
   ]
  },
  {
   "cell_type": "code",
   "execution_count": 12,
   "metadata": {},
   "outputs": [
    {
     "name": "stdout",
     "output_type": "stream",
     "text": [
      "Calls (0): []\n",
      "Puts (0): []\n",
      "4-days Streak (0): []\n",
      "3-days Streak (0): []\n",
      "2-days Streak (0): []\n",
      "1-day Streak (0): []\n"
     ]
    }
   ],
   "source": [
    "calls = []\n",
    "puts = []\n",
    "ones = []\n",
    "twos = []\n",
    "threes = []\n",
    "fours = []\n",
    "\n",
    "stock_calls,stock_puts,stock_ones,stock_twos,stock_threes,stock_fours = check_stock('NVDA')\n",
    "print(f'Calls ({len(stock_calls)}): {stock_calls}\\nPuts ({len(stock_puts)}): {stock_puts}\\n4-days Streak ({len(stock_fours)}): {stock_fours}\\n3-days Streak ({len(stock_threes)}): {stock_threes}\\n2-days Streak ({len(stock_twos)}): {stock_twos}\\n1-day Streak ({len(stock_ones)}): {stock_ones}')"
   ]
  },
  {
   "cell_type": "markdown",
   "metadata": {},
   "source": [
    "# Get pre/post market prices"
   ]
  },
  {
   "cell_type": "code",
   "execution_count": 13,
   "metadata": {},
   "outputs": [
    {
     "name": "stdout",
     "output_type": "stream",
     "text": [
      "CL Not pre/post market\n"
     ]
    }
   ],
   "source": [
    "def is_premarket(current):\n",
    "    start = dt.time(4,0,0)\n",
    "    end = dt.time(9,30,0)\n",
    "    return start<=current<=end\n",
    "\n",
    "def is_postmarket(current):\n",
    "    start = dt.time(16,0,0)\n",
    "    end = dt.time(20,0,0)\n",
    "    return start<=current<=end\n",
    "\n",
    "def get_pre_post_market(ticker,current_hour):\n",
    "    if is_premarket(current_hour):\n",
    "        data = f'{ticker} Premarket: {get_premarket_price(ticker)}'\n",
    "    elif is_postmarket(current_hour):\n",
    "        data = f'{ticker} Postmarket: {get_postmarket_price(ticker)}'\n",
    "    else:\n",
    "        data = f'{ticker} Not pre/post market'\n",
    "    #company = gather_data(data)\n",
    "    print(data)\n",
    "\n",
    "current_hour = dt.datetime.now().time()\n",
    "get_pre_post_market('CL',current_hour)"
   ]
  },
  {
   "cell_type": "markdown",
   "metadata": {},
   "source": [
    "# Plotter"
   ]
  },
  {
   "cell_type": "code",
   "execution_count": 14,
   "metadata": {},
   "outputs": [
    {
     "data": {
      "image/png": "[encoded data removed]",
      "text/plain": [
       "<Figure size 640x480 with 1 Axes>"
      ]
     },
     "metadata": {},
     "output_type": "display_data"
    }
   ],
   "source": [
    "%matplotlib inline\n",
    "\n",
    "today = dt.date.today()\n",
    "last_year = (dt.datetime.now()-relativedelta(years=1))\n",
    "ticker = 'CFG'\n",
    "data = get_data(ticker=ticker, start_date = last_year, end_date = None, index_as_date = True, interval = '1d')\n",
    "df = gather_data(data)\n",
    "plt.title(ticker + ' Graph')\n",
    "plt.xlabel('Days')\n",
    "plt.ylabel('Closing Prices')\n",
    "plt.plot(df['close'], label='Closing Prices')\n",
    "plt.plot(df['bollinger_up'], label='Bollinger Up', c='green')\n",
    "plt.plot(df['bollinger_down'], label='Bollinger Down', c='red')\n",
    "plt.plot(df['upper_KC'], label='Upper Keltner Channel', c='black')\n",
    "plt.plot(df['lower_KC'], label='Lower Keltner Channel', c='black')\n",
    "plt.plot(df['MA'], label='MA 14-Days', c='purple')\n",
    "plt.plot(df['momentum'], label='14-day Momentum', c='blue')\n",
    "plt.legend()\n",
    "plt.show()"
   ]
  },
  {
   "cell_type": "code",
   "execution_count": 15,
   "metadata": {},
   "outputs": [
    {
     "data": {
      "text/plain": [
       "['January 6, 2023',\n",
       " 'January 13, 2023',\n",
       " 'January 20, 2023',\n",
       " 'January 27, 2023',\n",
       " 'February 3, 2023',\n",
       " 'February 10, 2023',\n",
       " 'February 17, 2023',\n",
       " 'April 21, 2023',\n",
       " 'July 21, 2023',\n",
       " 'January 19, 2024',\n",
       " 'June 21, 2024',\n",
       " 'January 17, 2025']"
      ]
     },
     "execution_count": 15,
     "metadata": {},
     "output_type": "execute_result"
    }
   ],
   "source": [
    "get_expiration_dates(\"KHC\")"
   ]
  },
  {
   "cell_type": "code",
   "execution_count": 16,
   "metadata": {},
   "outputs": [
    {
     "data": {
      "text/html": [
       "<div>\n",
       "<style scoped>\n",
       "    .dataframe tbody tr th:only-of-type {\n",
       "        vertical-align: middle;\n",
       "    }\n",
       "\n",
       "    .dataframe tbody tr th {\n",
       "        vertical-align: top;\n",
       "    }\n",
       "\n",
       "    .dataframe thead th {\n",
       "        text-align: right;\n",
       "    }\n",
       "</style>\n",
       "<table border=\"1\" class=\"dataframe\">\n",
       "  <thead>\n",
       "    <tr style=\"text-align: right;\">\n",
       "      <th></th>\n",
       "      <th>Contract Name</th>\n",
       "      <th>Last Trade Date</th>\n",
       "      <th>Strike</th>\n",
       "      <th>Last Price</th>\n",
       "      <th>Bid</th>\n",
       "      <th>Ask</th>\n",
       "      <th>Change</th>\n",
       "      <th>% Change</th>\n",
       "      <th>Volume</th>\n",
       "      <th>Open Interest</th>\n",
       "      <th>Implied Volatility</th>\n",
       "    </tr>\n",
       "  </thead>\n",
       "  <tbody>\n",
       "    <tr>\n",
       "      <th>0</th>\n",
       "      <td>KHC230217C00035000</td>\n",
       "      <td>2023-01-04 3:10PM EST</td>\n",
       "      <td>35.0</td>\n",
       "      <td>6.56</td>\n",
       "      <td>6.50</td>\n",
       "      <td>6.70</td>\n",
       "      <td>0.0</td>\n",
       "      <td>-</td>\n",
       "      <td>20</td>\n",
       "      <td>21</td>\n",
       "      <td>41.41%</td>\n",
       "    </tr>\n",
       "    <tr>\n",
       "      <th>1</th>\n",
       "      <td>KHC230217C00037500</td>\n",
       "      <td>2023-01-04 2:02PM EST</td>\n",
       "      <td>37.5</td>\n",
       "      <td>4.25</td>\n",
       "      <td>4.25</td>\n",
       "      <td>4.45</td>\n",
       "      <td>0.0</td>\n",
       "      <td>-</td>\n",
       "      <td>82</td>\n",
       "      <td>420</td>\n",
       "      <td>35.35%</td>\n",
       "    </tr>\n",
       "    <tr>\n",
       "      <th>2</th>\n",
       "      <td>KHC230217C00040000</td>\n",
       "      <td>2023-01-04 3:44PM EST</td>\n",
       "      <td>40.0</td>\n",
       "      <td>2.21</td>\n",
       "      <td>2.28</td>\n",
       "      <td>2.37</td>\n",
       "      <td>0.0</td>\n",
       "      <td>-</td>\n",
       "      <td>64</td>\n",
       "      <td>577</td>\n",
       "      <td>28.27%</td>\n",
       "    </tr>\n",
       "    <tr>\n",
       "      <th>3</th>\n",
       "      <td>KHC230217C00042500</td>\n",
       "      <td>2023-01-05 9:52AM EST</td>\n",
       "      <td>42.5</td>\n",
       "      <td>0.94</td>\n",
       "      <td>0.89</td>\n",
       "      <td>0.95</td>\n",
       "      <td>0.1</td>\n",
       "      <td>+11.90%</td>\n",
       "      <td>2119</td>\n",
       "      <td>3154</td>\n",
       "      <td>24.90%</td>\n",
       "    </tr>\n",
       "    <tr>\n",
       "      <th>4</th>\n",
       "      <td>KHC230217C00045000</td>\n",
       "      <td>2023-01-04 3:29PM EST</td>\n",
       "      <td>45.0</td>\n",
       "      <td>0.25</td>\n",
       "      <td>0.24</td>\n",
       "      <td>0.28</td>\n",
       "      <td>0.0</td>\n",
       "      <td>-</td>\n",
       "      <td>4</td>\n",
       "      <td>601</td>\n",
       "      <td>23.58%</td>\n",
       "    </tr>\n",
       "    <tr>\n",
       "      <th>5</th>\n",
       "      <td>KHC230217C00047500</td>\n",
       "      <td>2023-01-04 2:33PM EST</td>\n",
       "      <td>47.5</td>\n",
       "      <td>0.05</td>\n",
       "      <td>0.05</td>\n",
       "      <td>0.08</td>\n",
       "      <td>0.0</td>\n",
       "      <td>-</td>\n",
       "      <td>10</td>\n",
       "      <td>14</td>\n",
       "      <td>24.32%</td>\n",
       "    </tr>\n",
       "  </tbody>\n",
       "</table>\n",
       "</div>"
      ],
      "text/plain": [
       "        Contract Name        Last Trade Date  Strike  Last Price   Bid   Ask  \\\n",
       "0  KHC230217C00035000  2023-01-04 3:10PM EST    35.0        6.56  6.50  6.70   \n",
       "1  KHC230217C00037500  2023-01-04 2:02PM EST    37.5        4.25  4.25  4.45   \n",
       "2  KHC230217C00040000  2023-01-04 3:44PM EST    40.0        2.21  2.28  2.37   \n",
       "3  KHC230217C00042500  2023-01-05 9:52AM EST    42.5        0.94  0.89  0.95   \n",
       "4  KHC230217C00045000  2023-01-04 3:29PM EST    45.0        0.25  0.24  0.28   \n",
       "5  KHC230217C00047500  2023-01-04 2:33PM EST    47.5        0.05  0.05  0.08   \n",
       "\n",
       "   Change % Change  Volume  Open Interest Implied Volatility  \n",
       "0     0.0        -      20             21             41.41%  \n",
       "1     0.0        -      82            420             35.35%  \n",
       "2     0.0        -      64            577             28.27%  \n",
       "3     0.1  +11.90%    2119           3154             24.90%  \n",
       "4     0.0        -       4            601             23.58%  \n",
       "5     0.0        -      10             14             24.32%  "
      ]
     },
     "execution_count": 16,
     "metadata": {},
     "output_type": "execute_result"
    }
   ],
   "source": [
    "get_calls('KHC','February 17, 2023')"
   ]
  }
 ],
 "metadata": {
  "kernelspec": {
   "display_name": "venv",
   "language": "python",
   "name": "python3"
  },
  "language_info": {
   "codemirror_mode": {
    "name": "ipython",
    "version": 3
   },
   "file_extension": ".py",
   "mimetype": "text/x-python",
   "name": "python",
   "nbconvert_exporter": "python",
   "pygments_lexer": "ipython3",
   "version": "3.8.10"
  },
  "orig_nbformat": 4,
  "vscode": {
   "interpreter": {
    "hash": "d64b717179daf6ac5354dc3c64370a71f70e4ec0b4cec5c00d1b91dba46702ee"
   }
  }
 },
 "nbformat": 4,
 "nbformat_minor": 2
}
